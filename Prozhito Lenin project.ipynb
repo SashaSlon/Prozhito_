{
 "cells": [
  {
   "cell_type": "markdown",
   "metadata": {
    "collapsed": true
   },
   "source": [
    "# Смерть Ленина в личных дневниках.\n",
    "<br>\n",
    "Данный проект выполнен на базе данных (mysql) ресурса \"Прожито\" (http://prozhito.org/) в рамках проектной деятельности \"Мастерские\"; проект выполнен Смирновой Александрой. \"Прожито\" - электронный архив личных дневников, который может быть использован для различных исторических исследований, а также в качестве корпуса; данный проект можно расценивать как демонстрацию этого.\n",
    "\n",
    "#### Цель: \n",
    "Cравнить дневниковые записи, сделанные в день смерти Ленина, а также в последующие дни до похорон Ленина включительно.\n",
    "#### Вопросы: \n",
    "- В какие дни + сколько люди писали о себе и о Ленине? в какие дни больше писали о Ленине? почему?\n",
    "- ссылка на dump: \n",
    "https://www.dropbox.com/sh/8vfjjt8107sv9r3/AADOVR795MxFovpuGN9PT_JZa?dl=0\n"
   ]
  },
  {
   "cell_type": "code",
   "execution_count": 262,
   "metadata": {},
   "outputs": [],
   "source": [
    "#загрузка дневниковых записей:\n",
    "dw = csvtools.DumpWrapper(r'C:/Users/Lenovo/Desktop/конспекты 3 курс/Мастерская Прожито/dump')\n",
    "notes = dw.notes()"
   ]
  },
  {
   "cell_type": "code",
   "execution_count": 263,
   "metadata": {},
   "outputs": [],
   "source": [
    "#загрузка необходимых модулей и библиотек\n",
    "import csvtools\n",
    "from pymystem3 import Mystem \n",
    "import pymorphy2\n",
    "m = Mystem()\n",
    "from collections import Counter\n",
    "import datetime\n",
    "import time\n",
    "import matplotlib.pyplot as plt"
   ]
  },
  {
   "cell_type": "code",
   "execution_count": 264,
   "metadata": {},
   "outputs": [],
   "source": [
    "#функция, очищающая текст (от стоп-слов, знаков и пр.)\n",
    "from stop_words import get_stop_words \n",
    "ru_stop = get_stop_words('ru')\n",
    "\n",
    "def filter_word(w):\n",
    "    w = w.strip('\\n')\n",
    "    if w == '':\n",
    "        return False\n",
    "    if not w[0].isalpha():\n",
    "        return False\n",
    "    if w in ru_stop:\n",
    "        return False\n",
    "    return True"
   ]
  },
  {
   "cell_type": "markdown",
   "metadata": {},
   "source": [
    "Код ниже работает следующим образом: \n",
    "- из базы выкачиваютя тексты, написанные в определенный день (21-27 января 1924-го); \n",
    "- тексты преобразуются в массив; \n",
    "- по предложениям текст лемматизируется и \"фильтруется\"; \n",
    "- подсчитывается процентное содержание слов \"Ленин\", \"ленинский\", \"Ильич\" и \"вождь\" в текстах конкретного дня \n",
    "- подсчитывается примерный процент упоминания Ленина в этот день:"
   ]
  },
  {
   "cell_type": "code",
   "execution_count": 265,
   "metadata": {},
   "outputs": [
    {
     "name": "stdout",
     "output_type": "stream",
     "text": [
      "date: 21.01.1924\n",
      "text imported\n",
      "text lemmatized\n",
      "statistics appended\n",
      "date: 22.01.1924\n",
      "text imported\n",
      "text lemmatized\n",
      "statistics appended\n",
      "date: 23.01.1924\n",
      "text imported\n",
      "text lemmatized\n",
      "statistics appended\n",
      "date: 24.01.1924\n",
      "text imported\n",
      "text lemmatized\n",
      "statistics appended\n",
      "date: 25.01.1924\n",
      "text imported\n",
      "text lemmatized\n",
      "statistics appended\n",
      "date: 26.01.1924\n",
      "text imported\n",
      "text lemmatized\n",
      "statistics appended\n",
      "date: 27.01.1924\n",
      "text imported\n",
      "text lemmatized\n",
      "statistics appended\n"
     ]
    }
   ],
   "source": [
    "dates = [21, 22, 23, 24, 25, 26, 27]\n",
    "percents = []\n",
    "for date in dates:\n",
    "    K = notes.searchDate((1924, 1, date))\n",
    "    print('date: '+str(date)+'.01.1924')\n",
    "    \n",
    "    sentences = []\n",
    "    for k in K:\n",
    "        tex = k.text\n",
    "        sentences.append(tex)\n",
    "        \n",
    "    lemmatext = []\n",
    "    print('text imported')\n",
    "    for sentence in sentences:\n",
    "        lemmas = m.lemmatize(sentence)\n",
    "        lemmatext.extend(lemmas)\n",
    "    print('text lemmatized')\n",
    "    lemmas = filter(filter_word, lemmatext)\n",
    "    lemmas = list(lemmas)\n",
    "    \n",
    "    a = round((Counter(lemmas)['ленин']/len(lemmas)*100), 1)\n",
    "    b = round((Counter(lemmas)['ленинский']/len(lemmas)*100), 1)\n",
    "    d = round((Counter(lemmas)['ильич']/len(lemmas)*100), 1)\n",
    "    c = round((Counter(lemmas)['вождь']/len(lemmas)*100), 1)\n",
    "    s = round(a+b+c+d, 1)\n",
    "    percents.append(s)\n",
    "    print('statistics appended')\n",
    "    time.sleep(2)"
   ]
  },
  {
   "cell_type": "markdown",
   "metadata": {},
   "source": [
    "#### Визуализация:"
   ]
  },
  {
   "cell_type": "code",
   "execution_count": 267,
   "metadata": {},
   "outputs": [
    {
     "data": {
      "image/png": "[encoded data removed]",
      "text/plain": [
       "<Figure size 432x288 with 1 Axes>"
      ]
     },
     "metadata": {
      "needs_background": "light"
     },
     "output_type": "display_data"
    }
   ],
   "source": [
    "labels = [f'{d}.01.1924' for d in dates]\n",
    "\n",
    "plt.plot(dates, percents)\n",
    "plt.title('Процент упоминаний Ленина со дня смерти до дня похорон')\n",
    "plt.ylabel('Проценты')\n",
    "plt.xlabel('Дата')\n",
    "plt.xticks(dates, labels, rotation=45)\n",
    "for e in range(len(percents)):\n",
    "    #plt.plot(dates[e], percents[e])\n",
    "    plt.text(dates[e]+0.01, percents[e]+0.01, str(percents[e]), fontsize=9)\n",
    "plt.show()"
   ]
  },
  {
   "cell_type": "markdown",
   "metadata": {},
   "source": [
    "### Выводы и обсуждение\n",
    "<br>\n",
    "Ленин умер 21 января 1924. Его похороны (помещение в мавзолей) были 27 января. Пять дней проходило официальное прощание. В статистике рассматриваются дневники, написанные в период с 21 по 27 января включительно. \n",
    "<br>\n",
    "<br>\n",
    "На графике отображены проценты упоминаний Ленина относительно текстов разных дней (рассматривались слова: Ленин, ленинский, Ильич, вождь). Можно отметить интересные наблюдения:\n",
    "<br>\n",
    "<br>\n",
    " ~ наименьший процент упоминаний Ленина в этот период был в день его смерти. Это объяснимо: Ленин умер в 18:50 часов, новость дошла не до всех. \n",
    "<br>\n",
    " ~ наибольший процент упоминаний Ленина - как раз на следующий день после смерти, 22 января. В этот день было вынесено официальное заключение о причине смерти в протоколе вскрытия тела, новость дошла до людей окончательно, отчего имеет наибольший отклик в личных записях. \n",
    "<br>\n",
    "<br>\n",
    "Интересно посмотреть на характер записей в разные дни. В день смерти - чисто фактический, сообщение об известии. На следующий день кто-то пишет так же уведомительно, кто-то пишет об этом как \"о слухе\", но в основном записи с эмоциональной реакцией на случившееся. На третий день записи рознятся: кто-то только 23-го числа узнает о смерти (и так же эмоционально рефлексирует на этот счет), кто-то уже сходил к гробу. К 24-му числу новость уже окончательно разошлась, и в дневниках пишут про то, как новость о смерти распространена в газетах и разговорах. 25-го и 26-го января писали о Ленине мало (каждый день лишь по одной записи посвящено Ленину). \n",
    "<br>\n",
    "<br>\n",
    "Интересно, что в день похорон ожидается как раз самый эмоциональный отклик, потому что есть событие, напрямую наталкивающее на рефлексию. Но 27 января о Ленине писали не так много. (Зато, если посмотреть на записи - часто!)\n",
    "\n",
    "### Перспективы и планы.\n",
    "Это исследование можно считать отправной точкой для создания более широкого исследования. В частности, относительно этого проекта есть следующие планы: \n",
    "<br>\n",
    "\n",
    "1) найти подходящий метод и внедрить лемматизацию для украинского языка. \n",
    "<br>\n",
    "Дело в том, что в нынешнем проекте часто появляются дневники украинца, пишущего на украинском языке, а этот язык не берет Mystem, отчего украинские тексты не лемматизируются и из-за этого не включаются в статистику должным образом. \n",
    "<br>\n",
    "\n",
    "2) смотреть не \"как много\" упоминался Ленин, а \"как часто\" (см. проценты дней 25.01 и 26.01 - в оба дня частота упоминания равнялась \"упоминание в одном дневнике\", а процент такой же, как и в день похорон, когда бОльшее количество людей написали об этом. => как вариант, использование topic modeling\n",
    "<br>\n",
    "\n",
    "3) была идея проверить теорию, что после своей смерти Ленин из человека \"превратился\" в идею. Для этого предполагалось проверить все упоминания о Ленине с ноября 1922 года по июнь 1924-го - посмотреть коллокации (2- и 3- граммы). Это интересная идея, но она имеет некоторые сложности в реализации (в частности, выкачка столь большого объема данных требует оптимизации алгоритма или платформы для запуска кода)."
   ]
  },
  {
   "cell_type": "markdown",
   "metadata": {},
   "source": [
    "### Ниже приведены разборы записей по дням: можно подробнее изучить записи конкретного дня: прочитать сами записи; посмотреть на их количество, увидеть их лемматизированные варианты."
   ]
  },
  {
   "cell_type": "markdown",
   "metadata": {},
   "source": [
    "### День смерти Ленина "
   ]
  },
  {
   "cell_type": "code",
   "execution_count": 68,
   "metadata": {
    "scrolled": false
   },
   "outputs": [],
   "source": [
    "L = notes.searchDate((1924, 1, 21))"
   ]
  },
  {
   "cell_type": "code",
   "execution_count": 62,
   "metadata": {},
   "outputs": [
    {
     "name": "stdout",
     "output_type": "stream",
     "text": [
      "Записей в этот день: 7\n"
     ]
    }
   ],
   "source": [
    "print(\"Записей в этот день:\", len(L))"
   ]
  },
  {
   "cell_type": "code",
   "execution_count": 42,
   "metadata": {
    "scrolled": true
   },
   "outputs": [
    {
     "name": "stdout",
     "output_type": "stream",
     "text": [
      "Умер В.И.Ленин в 6 часов вечера. \n",
      "\n",
      "--\n",
      "\n",
      "\n",
      "В 10.30 репетиция с Гусенсом, который сопровождал очень хорошо, приняв во внимание, что мы сыгрывались и он раньше не слыхал этого Концерта (мой Первый, очень жаль, что не Второй, но его еле выучу к весне, к Кусевицкому).    \n",
      "Ходил на Victoria Station узнавать про поезда. Кое-какие идут и станция, несмотря на всеобщую забастовку, не мертва. Говорят, завтра мой поезд пойдёт. Заходил в лондонское отделение Aeolian Co. Попал удачно, так как они только что получили предписание из Нью-Йорка заключить со мною новый контракт наигрывания, но не на пять лет, а на пять сезонов, т.е. на пять моих будущих приездов в Нью-Йорк, по три рулона вместо прежних пяти. Ясно, что мои фонды в Америке низки и мне сбивают количество, а так как от предлагаемого контракта я не могу извлекать пользы, пока я в Европе, я просил отложить переговоры до моего следующего приезда в Нью-Йорк. Пока же воспользуюсь случаем, чтобы сообщить, что я переложил «Шехеразаду» (хотя я её не кончил) и попросить аванс под ещё неиспользованный последний год предыдущего контракта. Mead (директор лондонский) сказал, что, вероятно, к авансу препятствий не встретится, но он всё же должен предварительно запросить Нью-Йорк. Таким образом, отлично: шесть тысяч франков для бюджета.    \n",
      "В восемь часов вечера концерт. Когда я вышел на эстраду и сел за рояль, у меня отскочила пуговица у фрачного жилета и упала на моё колено. Я взял её и сунул в карман. Гусенс сделал мне рожу. Это меня развеселило. Концерт я играл недурно. Вначале чуть-чуть намазал. Успех хороший, как в прошлый раз, но меньше, чем в Женеве. Вызывали четыре раза. В артистическую никто не приходил и денег никто не платил. \n",
      "\n",
      "--\n",
      "\n",
      "\n",
      "Было уже после полуночи, когда к Добровым мне позвонил по телефону брат Борис, и я быстро на санях приехала к нему и его жене Наташе на Рождественку, в гостиницу «Маяк». Хорошо встретились, я рада была Боре. Утром рано я уехала в Долгие Пруды.    \n",
      "На склоне Рождественского бульвара Нина рассказала, как прославились за границей красные розы, положенные на цоколь ефимовского быка на С<ельско->Х<озяйственной> выставке. Сноп красных роз случайно видел какой-то иностранный корреспондент и написал о них в Париж. Розы были мои.    \n",
      ">    \n",
      "Весть о смерти Ленина (21/1)    \n",
      "Долгие Пруды — как зачарованный остров — вне жизни и вне событий. Здесь, как всегда, точный, минута в минуту, режим, распорядок, процедуры, занятия, часы отдыха, перевязок, точно определенной работы. \n",
      "\n",
      "--\n",
      "\n",
      "\n",
      "Білет на трамваї коштує — 400.000.000 руб. Ще у вересні я їздив за 15.000.000, а рік тому за 400.000.    \n",
      "Колись була у дітей жартівлива задача: скільки коштує 5- копієчна булка. Тепер це не жарти, бо сьогодні 5-копієчна булка коштує 800.000.000 руб. 1922 року ми були міліонерами, 1923 поробились міліярдерами, що з нас буде в 1924-ому році? — Також задача для дітей молодшого віку. \n",
      "\n",
      "--\n",
      "\n",
      "\n",
      "–7°. Выпал снег. [...]<com id=\"147541155141037\"/>. В Музее я показывал залы с бытовыми вещами хранителю Русского музея в С.-Петербурге. Перед обедом заходила Надя с Мишей, сказала, что внучка Нина разошлась с Василием Горшковым. \n",
      "\n",
      "--\n",
      "\n",
      "\n",
      "Понедельник. Начались будни. Начались занятия. Достала Историю Церкви и Катехизис и зубрила. Немножко трудно, внимание рассеивается. Еще слышатся отголоски праздничного безделья. Настроение бодрое, работать хочется. Завтра дела пойдут лучше, буду (нрзб одно слово. — *И.Н.)* копить все дни и вечера, авось скоро пройдет время до субботы. Вася хотел прийти в субботу. Мне хочется побыть с ним вдвоем над томиком Ахматовой. Вчера, когда Таутер и Овчаров издевались над каждой строчкой, он просил меня показать мои любимые и объяснить их.    \n",
      "Только кто‑то помешал. А Вася сможет понять, если захочет.    \n",
      "А все‑таки надо работать, работать, работать. \n",
      "\n",
      "--\n",
      "\n",
      "\n",
      "Наташа меня презирает! Эти несчастные надписи. «Бибас тряпка!» Как это тяжело, обидно, жестоко! \n",
      "\n",
      "--\n",
      "\n",
      "\n"
     ]
    }
   ],
   "source": [
    "# дневниковые записи по отдельности\n",
    "for l in L:\n",
    "    print(l.text, \"\\n\\n--\\n\\n\")"
   ]
  },
  {
   "cell_type": "code",
   "execution_count": 128,
   "metadata": {
    "scrolled": true
   },
   "outputs": [],
   "source": [
    "sentences = []\n",
    "for l in L:\n",
    "    tex = l.text\n",
    "    sentences.append(tex)"
   ]
  },
  {
   "cell_type": "code",
   "execution_count": 135,
   "metadata": {
    "scrolled": true
   },
   "outputs": [],
   "source": [
    "lemmatext = []\n",
    "\n",
    "for sentence in sentences:\n",
    "    lemmas = m.lemmatize(sentence)\n",
    "    lemmatext.extend(lemmas)"
   ]
  },
  {
   "cell_type": "code",
   "execution_count": 147,
   "metadata": {},
   "outputs": [],
   "source": [
    "lemmas = filter(filter_word, lemmatext)\n",
    "lemmas = list(lemmas)"
   ]
  },
  {
   "cell_type": "code",
   "execution_count": 169,
   "metadata": {
    "scrolled": true
   },
   "outputs": [
    {
     "name": "stdout",
     "output_type": "stream",
     "text": [
      "['умирать', 'ленин', 'час', 'вечер', 'репетиция', 'гусенс', 'сопровождать', 'принимать', 'внимание', 'сыгрываться', 'слыхать', 'концерт', 'жаль', 'еле', 'выучивать', 'весна', 'кусевицкий', 'ходить', 'Victoria', 'Station', 'узнавать', 'поезд', 'кое-какой', 'идти', 'станция', 'несмотря', 'всеобщий', 'забастовка', 'мертвый', 'говорить', 'завтра', 'поезд', 'пойти', 'заходить', 'лондонский', 'отделение', 'Aeolian', 'Co', 'попадать', 'удачно', 'получать', 'предписание', 'нью-йорк', 'заключать', 'новый', 'контракт', 'наигрывание', 'сезон', 'будущий', 'приезд', 'нью-йорк', 'рулон', 'вместо', 'прежний', 'ясно', 'фонд', 'америка', 'низкий', 'сбивать', 'количество', 'предлагать', 'контракт', 'извлекать', 'польза', 'европа', 'просить', 'откладывать', 'переговоры', 'следующий', 'приезд', 'нью-йорк', 'воспользоваться', 'случай', 'сообщать', 'перелагать', 'шехеразада', 'кончать', 'попросить', 'аванс', 'неиспользованный', 'последний', 'предыдущий', 'контракт', 'Mead', 'директор', 'лондонский', 'вероятно', 'аванс', 'препятствие', 'встречаться', 'должный', 'предварительно', 'запрашивать', 'нью-йорк', 'образ', 'отлично', 'тысяча', 'франк', 'бюджет', 'час', 'вечер', 'концерт', 'выходить', 'эстрада', 'садиться', 'рояль', 'отскочить', 'пуговица', 'фрачный', 'жилет', 'упасть', 'колено', 'взять', 'сунуть', 'карман', 'гусенс', 'сделать', 'рожа', 'развеселять', 'концерт', 'играть', 'недурно', 'вначале', 'чуть-чуть', 'намазывать', 'успех', 'хороший', 'прошлый', 'женева', 'вызывать', 'артистический', 'никто', 'приходить', 'деньги', 'никто', 'платить', 'полночь', 'добров', 'позвонить', 'телефон', 'брат', 'борис', 'быстро', 'сани', 'приезжать', 'жена', 'наташа', 'рождественка', 'гостиница', 'маяк', 'встречаться', 'рад', 'боря', 'утро', 'уезжать', 'долгий', 'пруд', 'склон', 'рождественский', 'бульвар', 'нина', 'рассказывать', 'прославляться', 'граница', 'красный', 'роза', 'полагать', 'цоколь', 'ефимовский', 'бык', 'ельский', 'х', 'озяйственный', 'выставка', 'сноп', 'красный', 'роза', 'случайно', 'видеть', 'какой-то', 'иностранный', 'корреспондент', 'написать', 'париж', 'роза', 'весть', 'смерть', 'ленин', 'долгий', 'пруд', 'зачарованный', 'остров', 'вне', 'вне', 'событие', 'точный', 'минута', 'минута', 'режим', 'распорядок', 'процедура', 'занятие', 'час', 'отдых', 'перевязка', 'точно', 'определенный', 'работа', 'Білет', 'трамваї', 'коштує', 'руб', 'Ще', 'вересні', 'їздив', 'рік', 'колоться', 'була', 'дітей', 'жартівлива', 'задача', 'скільки', 'коштує', 'копієчна', 'булка', 'тепер', 'це', 'жарти', 'бо', 'сьогодні', 'копієчна', 'булка', 'коштує', 'руб', 'рок', 'ми', 'буль', 'міліонерами', 'поробиться', 'міліярдерами', 'що', 'з', 'буде', 'ом', 'році', 'тако', 'задача', 'дітей', 'молодшого', 'віку', 'выпадать', 'снег', 'com', 'id', 'музей', 'показывать', 'зал', 'бытовой', 'вещь', 'хранитель', 'русский', 'музей', 'петербург', 'обед', 'заходить', 'надя', 'миша', 'внучка', 'нина', 'расходиться', 'василий', 'горшков', 'понедельник', 'начинаться', 'будни', 'начинаться', 'занятие', 'доставать', 'история', 'церковь', 'катехизис', 'зубрило', 'немножко', 'трудно', 'внимание', 'рассеиваться', 'слышаться', 'отголосок', 'праздничный', 'безделье', 'настроение', 'бодрый', 'работать', 'хотеться', 'завтра', 'дело', 'пойти', 'нрзб', 'слово', 'н', 'копить', 'вечер', 'авось', 'скоро', 'пройти', 'суббота', 'вася', 'приходить', 'суббота', 'хотеться', 'побыть', 'вдвоем', 'томик', 'ахматова', 'вчера', 'таутер', 'овчаров', 'издеваться', 'строчка', 'просить', 'показывать', 'любимый', 'объяснять', 'помешать', 'вася', 'смочь', 'понимать', 'захотеть', 'таки', 'работать', 'работать', 'работать', 'наташа', 'презирать', 'несчастный', 'надпись', 'бибас', 'тряпка', 'тяжело', 'обидно', 'жестоко']\n"
     ]
    }
   ],
   "source": [
    "print(lemmas) #лемматизированный текст без стоп-слов"
   ]
  },
  {
   "cell_type": "code",
   "execution_count": 197,
   "metadata": {
    "scrolled": true
   },
   "outputs": [],
   "source": [
    "#Counter(lemmas).most_common(100)\n",
    "a = round((Counter(lemmas)['ленин']/len(lemmas)*100), 1)\n",
    "b = round((Counter(lemmas)['ленинский']/len(lemmas)*100), 1)\n",
    "d = round((Counter(lemmas)['ильич']/len(lemmas)*100), 1)\n",
    "c = round((Counter(lemmas)['вождь']/len(lemmas)*100), 1)"
   ]
  },
  {
   "cell_type": "code",
   "execution_count": 225,
   "metadata": {},
   "outputs": [
    {
     "name": "stdout",
     "output_type": "stream",
     "text": [
      "Употребление слова 'Ленин' в этот день: 0.6 %\n",
      "Употребление слова 'ленинский' в этот день: 0.0 %\n",
      "Употребление слова 'Ильич' в этот день: 0.0 %\n",
      "Употребление слова 'вождь' в этот день: 0.0 %\n",
      "Примерный процент упоминания Ленина в этот день: 0.6 %\n"
     ]
    }
   ],
   "source": [
    "print(\"Употребление слова 'Ленин' в этот день:\", a, \"%\")\n",
    "print(\"Употребление слова 'ленинский' в этот день:\", b, \"%\")\n",
    "print(\"Употребление слова 'Ильич' в этот день:\", d, \"%\")\n",
    "print(\"Употребление слова 'вождь' в этот день:\", c, \"%\")\n",
    "print(\"Примерный процент упоминания Ленина в этот день:\", a+b+d+c, \"%\")"
   ]
  },
  {
   "cell_type": "markdown",
   "metadata": {},
   "source": [
    "#### День 1 после смерти"
   ]
  },
  {
   "cell_type": "code",
   "execution_count": 80,
   "metadata": {},
   "outputs": [],
   "source": [
    "L1 = notes.searchDate((1924, 1, 22))"
   ]
  },
  {
   "cell_type": "code",
   "execution_count": 81,
   "metadata": {},
   "outputs": [
    {
     "name": "stdout",
     "output_type": "stream",
     "text": [
      "Записей в этот день: 10\n"
     ]
    }
   ],
   "source": [
    "print(\"Записей в этот день:\", len(L1))"
   ]
  },
  {
   "cell_type": "code",
   "execution_count": 85,
   "metadata": {
    "scrolled": true
   },
   "outputs": [
    {
     "name": "stdout",
     "output_type": "stream",
     "text": [
      "Сейчас только что (пять с половиной часов вечера) Семка сообщил, что Ленин скончался. Об этом, по его словам, есть официальное сообщение. \n",
      "\n",
      "--\n",
      "\n",
      "\n",
      "Вторник. «9 января». Погода сырая. Мороз порядочный. Ходил на вокзальную площадь смотреть инсценировку расстрела рабочих в Петербурге... Старую армию изображали артиллерийские, кавалерийские и пешие красноармейские части. Они нашили себе на шапки старорежимные значки, на плечах были погоны. Красные значки на рукавах завязали тряпками. Рабочих представляли рабочие депо ЕЖД и паровозные мастерские. Вокзал изображал дворец.    \n",
      "Когда рабочие появились (с иконами, хоругвями), их встретили ружейными залпами и из орудий. Рабочие падали на снег. После этого была произнесена небольшая речь. Таня и Бина писали доклад. \n",
      "\n",
      "--\n",
      "\n",
      "\n",
      "Встал рано и бегал за чеком и его разменом. Купил новую шляпу у Locks. По случаю забастовки не было известно, пойдёт ли поезд. Но поезд на континент пошёл и в два часа я был уже во Франции, очень довольный, что покинул дорогой, забастовочный и довольно безразлично принимавший меня Лондон. Сидя в поезде, обдумывал судьбы и пути оперы. И Дягилев, и Стравинский кричат, что довольно, пора кончать с декламационным стилем в опере; если уж писать оперу, то в старых формах — с номерами, ариями, ансамблями. Мне стало совершенно ясно, что это совершенно неверно. Писать надо так, чтобы музыка всё время усиливала впечатление по сравнению с тем, если-б это была простая драма без музыки. Либретто должно быть составлено так, чтоб никакой служебной музыки не было. Отсюда «Женитьба» Мусоргского — на ложном пути. Неважно, будет ли опера написана в ариозном или декламационном стиле, но важно чтобы ария или ансамбль вызывались сценой, а декламационный момент требовал музыку для усиления впечатления. В моих операх есть много промахов в этом направлении, потому что я не вполне ясно отдавал себе отчёт, но сегодня, я считаю, я этот вопрос разрешил и впредь буду действовать соответственно. В «Игроке» и «Огненном ангеле» я слишком зависел от текста. В будущем надо брать только идею сюжета, а разрабатывать её надо гораздо свободнее — подчиняясь сегодняшним принципам.    \n",
      "В семь часов вечера был дома и нашёл обеих барышень в хорошем настроении, хотя и с насморком. \n",
      "\n",
      "--\n",
      "\n",
      "\n",
      "Скоро прокинувся — прибігла Настя. «Чіпляйте мерщій флага, бо жидівки ходять по вулицях та додивляються, де нема флага». Я згадав, що сьогодні свято «9 січня» — і побіг прив’язувати коло брами флага, та ще високо, бо інакше вкрадуть. Святкуємо однаково, — як колись «высокоторжественные дни», так тепер революційні свята, тільки що були трьох- колірні, флаги, а тепер червоні.<com id=\"1475914980412\"/> Та ще тоді було «от усердия», а тепер усе до дрібниць регламентовано: який завбільшки має бути флаг, яке завтовшки держално, які літери — і конче золотом — мають бути і в якому куточку... Те ж саме і з портретами: замість царя — Маркс, Ленін... Цілий іконостас, аж до нещасного Шевченка, якого також тулять по всяких неподобних «присутствиях», аж до театрів. Бувають часом надзвичайно пікантні комбінації; в одному банку, в пишному кабінеті голови я бачив портрет Маркса. Спекуляція і Маркс! Одне слово: l’ordre rigne...<com id=\"1475914980413\"/> Тільки пекельно нудно від такого порядку робиться!    \n",
      "Згадалось мені, як торік заводили оці флаги. Міліція видала докладний регламент про флаги і разом оповістила по всіх дворах, що флаги можна купувати... в міліції за 35 міліонів (тоді це були ще гроші). На базарі можна було такий флаг придбати за 20 міл. Але багато людей, боючись задиратись з міліцією, купували флаги таки у неї. \n",
      "\n",
      "--\n",
      "\n",
      "\n",
      "–2°. Большевистский праздник (избиение рабочих), занятий нет. Выпало много снега, днем сделалась оттепель. Разнесся слух, что умер Ленин. Слышал, что арестованы оба брата Прове. Пришел А.А. Карзинкин, потом Сережа Орешников с женой. Вечером выпустили телеграммы, что вчера умер около 7 ч. вечера Ленин. \n",
      "\n",
      "--\n",
      "\n",
      "\n",
      "Хлопоты перед отъездом. Отъезд намечен 24 января, в четверг. Вечером пришло известие о смерти Ленина. Мои проводы на рабфаке отменены. Был Миша. Страшно тяжело — как родной умер. Вечером решали ехать завтра, а не 24-го, чтобы поспеть к похоронам. \n",
      "\n",
      "--\n",
      "\n",
      "\n",
      "Даже записать страшно, но эта ужасная весть факт: Ленина больше нет. Не могу осмыслить, поверить, понять...    \n",
      "Что будет у нас? Что будет во всем мире?    \n",
      "Жутко до дурноты. \n",
      "\n",
      "--\n",
      "\n",
      "\n",
      "Как все скверно кругом!  Вчера в 6 ч. 50 м. Вечера умер Владимир Ильич Ленин. Меня это известие очень поразило. Все мои личные треволнения отошли на задний план. Шатаясь по улицам, я заметил, что у газетных киосков  толпы народа и громадные  очереди. На мои расспросы мне отвечали, что ждут  бюллетеня о смерти Ленина.  Владя принес экстренный выпуск «Рабочей Москвы». Подробностей мало. [*Газеты* *писали,* *что* *состояние* *улучшалось,* *и* *смерть* *была* *внезапной.* *Всероссийский* *съезд* *советов* *прервал* *заседание* *и* *обратился* *к* *народу* *с* *призывом* *продолжать* *дело* *Ленина.*] На меня эта смерть очень подействовала. Именем Ленина была заполнена вся Россия, в течении 7-ми лет моего сознательного существования. Оно произносилось то со злобой, то с энтузиазмом, то с презрением, то с любовью, то с уважением, то просто с недоумением. Говорили о нем даже как о сумасшедшем. Но теперь, когда он уже в гробу его друзья (число которых за эти 6 лет страшно возросло) и враги, все соглашаются с тем, что Ленин был действительно великим человеком, одним из тех гениев, которые рождались лишь один раз в столетие. Это величайшая историческая личность. \n",
      "\n",
      "--\n",
      "\n",
      "\n",
      "Телеграмой получено извещение *[текст* *извещения* *обведен* *двойной* *рамкой* *—* *С.А.].*    \n",
      "                      \n",
      ">$$21 января 6 часов вечера$$ помер Владимир Ильичь Ленин (Ульянов), председатель совета народных Комисаров.    \n",
      ">$$27 I. Похороны В.И. Ленина.    \n",
      "$$$$>$$Митинг в Исполкоме .    \n",
      ">Манифестация и салют в минуту похорон.    \n",
      " \n",
      "\n",
      "--\n",
      "\n",
      "\n",
      "**Вторник**. Сегодня вечером Смоленским волпарткомом получена телеграмма из г. Москвы по прямому проводу, в которой сообщено о смерти великого вождя и учителя мирового пролетариата Владимира Ильича Ленина. Товарищ Ленин скончался в понедельник 21 января в 6 часов 50 минут вечера. Вечная память вождю и учителю мирового пролетариата Владимиру Ильичу Ленину...<com id=\"15123340871416\"/> \n",
      "\n",
      "--\n",
      "\n",
      "\n"
     ]
    }
   ],
   "source": [
    "# дневниковые записи по отдельности\n",
    "for l in L1:\n",
    "    print(l.text, \"\\n\\n--\\n\\n\")"
   ]
  },
  {
   "cell_type": "code",
   "execution_count": 92,
   "metadata": {},
   "outputs": [],
   "source": [
    "sentences1 = []\n",
    "for i in L1:\n",
    "    tex1 = i.text\n",
    "    sentences1.append(tex1)"
   ]
  },
  {
   "cell_type": "code",
   "execution_count": 93,
   "metadata": {},
   "outputs": [],
   "source": [
    "lemmatext1 = []\n",
    "for sentence in sentences1:\n",
    "    lemmas = m.lemmatize(sentence)\n",
    "    lemmatext1.extend(lemmas)"
   ]
  },
  {
   "cell_type": "code",
   "execution_count": 180,
   "metadata": {
    "scrolled": true
   },
   "outputs": [
    {
     "name": "stdout",
     "output_type": "stream",
     "text": [
      "['половина', 'час', 'вечер', 'семка', 'сообщать', 'ленин', 'скончаться', 'слово', 'официальный', 'сообщение', 'вторник', 'январь', 'погода', 'сырой', 'мороз', 'порядочный', 'ходить', 'вокзальный', 'площадь', 'смотреть', 'инсценировка', 'расстрел', 'рабочий', 'петербург', 'старый', 'армия', 'изображать', 'артиллерийский', 'кавалерийский', 'пеший', 'красноармейский', 'часть', 'нашивать', 'шапка', 'старорежимный', 'значок', 'плечо', 'погон', 'красный', 'значок', 'рукав', 'завязывать', 'тряпка', 'рабочий', 'представлять', 'рабочий', 'депо', 'ежды', 'паровозный', 'мастерская', 'вокзал', 'изображать', 'дворец', 'рабочий', 'появляться', 'икона', 'хоругвь', 'встречать', 'ружейный', 'залп', 'орудие', 'рабочий', 'падать', 'снег', 'произносить', 'небольшой', 'речь', 'таня', 'бин', 'писать', 'доклад', 'вставать', 'бегать', 'чек', 'размен', 'купить', 'новый', 'шляпа', 'Locks', 'случай', 'забастовка', 'известно', 'пойти', 'поезд', 'поезд', 'континент', 'пойти', 'час', 'франция', 'довольный', 'покидать', 'дорогой', 'забастовочный', 'безразлично', 'принимать', 'лондон', 'сидеть', 'поезд', 'обдумывать', 'судьба', 'путь', 'опера', 'дягилев', 'стравинский', 'кричать', 'кончать', 'декламационный', 'стиль', 'опера', 'писать', 'опера', 'старый', 'форма', 'номер', 'ария', 'ансамбль', 'становиться', 'совершенно', 'ясно', 'совершенно', 'неверный', 'писать', 'музыка', 'усиливать', 'впечатление', 'сравнение', 'б', 'простой', 'драма', 'музыка', 'либретто', 'составлять', 'никакой', 'служебный', 'музыка', 'женитьба', 'мусоргский', 'ложный', 'путь', 'неважно', 'опера', 'написать', 'ариозный', 'декламационный', 'стиль', 'важно', 'ария', 'ансамбль', 'вызываться', 'сцена', 'декламационный', 'момент', 'требовать', 'музыка', 'усиление', 'впечатление', 'опера', 'промах', 'направление', 'вполне', 'ясно', 'отдавать', 'отчет', 'считать', 'вопрос', 'разрешать', 'впредь', 'действовать', 'соответственно', 'игрок', 'огненный', 'ангел', 'зависеть', 'текст', 'будущее', 'брать', 'идея', 'сюжет', 'разрабатывать', 'гораздо', 'свободно', 'подчиняться', 'сегодняшний', 'принцип', 'час', 'вечер', 'дома', 'находить', 'барышня', 'хороший', 'настроение', 'насморк', 'скоро', 'прокинувся', 'прибігла', 'настя', 'Чіпляйте', 'мерщий', 'флаг', 'бо', 'жидівки', 'ходять', 'вулицях', 'додивляються', 'де', 'нема', 'флаг', 'згадать', 'що', 'сьогодні', 'святой', 'січня', 'і', 'побіг', 'прив', 'язувать', 'коло', 'брамлять', 'флаг', 'ще', 'високо', 'бо', 'інакше', 'вкрадувать', 'Святкуємо', 'однаково', 'як', 'колоться', 'высокоторжественный', 'тепер', 'революційні', 'святой', 'тільки', 'що', 'буль', 'трьох', 'колірні', 'флаг', 'тепер', 'червоні', 'com', 'id', 'ще', 'тоді', 'було', 'усердие', 'тепер', 'ус', 'дрібниць', 'регламентовать', 'якия', 'завбільшки', 'має', 'бутить', 'флаг', 'як', 'завтовшки', 'держално', 'які', 'літери', 'і', 'конча', 'золото', 'мають', 'бутить', 'і', 'якому', 'куточек', 'і', 'з', 'портрет', 'замість', 'царь', 'маркс', 'Ленін', 'Цілий', 'іконостас', 'аж', 'нещасный', 'шевченок', 'якого', 'тако', 'тулять', 'всякий', 'неподобних', 'присутствие', 'аж', 'театрів', 'бувають', 'час', 'надзвичайно', 'пікантні', 'комбінації', 'банк', 'пишный', 'кабінеті', 'головить', 'бачивать', 'портрет', 'маркс', 'спекуляция', 'і', 'маркс', 'слово', 'l', 'ordre', 'rigne', 'com', 'id', 'Тільки', 'пекельный', 'нудно', 'від', 'порядок', 'робиться', 'згадаться', 'мені', 'як', 'торік', 'заводить', 'оці', 'флаг', 'Міліція', 'видать', 'докладний', 'регламент', 'флаг', 'і', 'разом', 'оповістила', 'всіх', 'двор', 'що', 'флаг', 'можный', 'купуватить', 'міліції', 'міліонів', 'тоді', 'це', 'буль', 'ще', 'гроші', 'базарі', 'можный', 'було', 'такья', 'флаг', 'придбати', 'міл', 'аля', 'багато', 'боючиться', 'задиращаться', 'з', 'міліцією', 'купували', 'флаг', 'таки', 'неї', 'большевистский', 'праздник', 'избиение', 'рабочий', 'занятие', 'выпадать', 'снег', 'сделаться', 'оттепель', 'разнестись', 'слух', 'умирать', 'ленин', 'слышать', 'арестовывать', 'брат', 'пров', 'приходить', 'карзинкин', 'сережа', 'орешник', 'жена', 'вечер', 'выпускать', 'телеграмма', 'вчера', 'умирать', 'ч', 'вечер', 'ленин', 'хлопоты', 'отъезд', 'отъезд', 'намечать', 'январь', 'четверг', 'вечер', 'приходить', 'известие', 'смерть', 'ленин', 'проводы', 'рабфак', 'отменять', 'миша', 'страшно', 'тяжело', 'родной', 'умирать', 'вечер', 'решать', 'ехать', 'завтра', 'го', 'поспевать', 'похороны', 'записывать', 'страшно', 'ужасный', 'весть', 'факт', 'ленин', 'осмысливать', 'поверять', 'понимать', 'мир', 'жутко', 'дурнота', 'скверный', 'вчера', 'ч', 'вечер', 'умирать', 'владимир', 'ильич', 'ленин', 'известие', 'поражать', 'личный', 'треволнение', 'отходить', 'задний', 'план', 'шататься', 'улица', 'замечать', 'газетный', 'киоск', 'толпа', 'народ', 'громадный', 'очередь', 'расспрос', 'отвечать', 'ждать', 'бюллетень', 'смерть', 'ленин', 'владя', 'приносить', 'экстренный', 'выпуск', 'рабочий', 'москва', 'подробность', 'газета', 'писать', 'состояние', 'улучшаться', 'смерть', 'внезапный', 'всероссийский', 'съезд', 'совет', 'прерывать', 'заседание', 'обращаться', 'народ', 'призыв', 'продолжать', 'дело', 'ленин', 'смерть', 'подействовать', 'ленин', 'заполнять', 'россия', 'течение', 'ми', 'сознательный', 'существование', 'произноситься', 'злоба', 'энтузиазм', 'презрение', 'любовь', 'уважение', 'недоумение', 'говорить', 'сумасшедший', 'гроб', 'друг', 'число', 'страшно', 'возрастать', 'враг', 'соглашаться', 'ленин', 'великий', 'гений', 'рождаться', 'столетие', 'великий', 'исторический', 'личность', 'телеграма', 'получать', 'извещение', 'текст', 'извещение', 'обвести', 'двойной', 'рамка', 'январь', 'час', 'вечер', 'помирать', 'владимир', 'ильичь', 'ленин', 'ульянов', 'председатель', 'совет', 'народный', 'комисаров', 'I', 'похороны', 'ленин', 'митинг', 'исполком', 'манифестация', 'салют', 'минута', 'похороны', 'вторник', 'вечер', 'смоленский', 'волпартком', 'получать', 'телеграмма', 'москва', 'прямой', 'провод', 'сообщать', 'смерть', 'великий', 'вождь', 'учитель', 'мировой', 'пролетариат', 'владимир', 'ильич', 'ленин', 'товарищ', 'ленин', 'скончаться', 'понедельник', 'январь', 'час', 'минута', 'вечер', 'вечный', 'память', 'вождь', 'учитель', 'мировой', 'пролетариат', 'владимир', 'ильич', 'ленин', 'com', 'id']\n"
     ]
    }
   ],
   "source": [
    "lemmas1 = filter(filter_word, lemmatext1)\n",
    "lemmas1 = list(lemmas1)\n",
    "print(lemmas1) #лемматизированный текст без стоп-слов"
   ]
  },
  {
   "cell_type": "code",
   "execution_count": 195,
   "metadata": {},
   "outputs": [],
   "source": [
    "#Counter(lemmas1).most_common(100)\n",
    "a1 = round((Counter(lemmas1)['ленин']/len(lemmas1)*100), 1)\n",
    "b1 = round((Counter(lemmas1)['ленинский']/len(lemmas1)*100), 1)\n",
    "d1 = round((Counter(lemmas1)['ильич']/len(lemmas1)*100), 1)\n",
    "c1 = round((Counter(lemmas1)['вождь']/len(lemmas1)*100), 1)"
   ]
  },
  {
   "cell_type": "code",
   "execution_count": 226,
   "metadata": {},
   "outputs": [
    {
     "name": "stdout",
     "output_type": "stream",
     "text": [
      "Употребление слова 'Ленин' в этот день: 2.6 %\n",
      "Употребление слова 'ленинский' в этот день: 0.0 %\n",
      "Употребление слова 'Ильич' в этот день: 0.5 %\n",
      "Употребление слова 'вождь' в этот день: 0.3 %\n",
      "Примерный процент упоминания Ленина в этот день: 3.4 %\n"
     ]
    }
   ],
   "source": [
    "print(\"Употребление слова 'Ленин' в этот день:\", a1, \"%\")\n",
    "print(\"Употребление слова 'ленинский' в этот день:\", b1, \"%\")\n",
    "print(\"Употребление слова 'Ильич' в этот день:\", d1, \"%\")\n",
    "print(\"Употребление слова 'вождь' в этот день:\", c1, \"%\")\n",
    "print(\"Примерный процент упоминания Ленина в этот день:\", a1+b1+d1+c1, \"%\")"
   ]
  },
  {
   "cell_type": "markdown",
   "metadata": {},
   "source": [
    "#### День 2 после смерти"
   ]
  },
  {
   "cell_type": "code",
   "execution_count": 86,
   "metadata": {},
   "outputs": [],
   "source": [
    "L2 = notes.searchDate((1924, 1, 23))"
   ]
  },
  {
   "cell_type": "code",
   "execution_count": 87,
   "metadata": {},
   "outputs": [
    {
     "name": "stdout",
     "output_type": "stream",
     "text": [
      "Записей в этот день: 12\n"
     ]
    }
   ],
   "source": [
    "print(\"Записей в этот день:\", len(L2))"
   ]
  },
  {
   "cell_type": "code",
   "execution_count": 88,
   "metadata": {
    "scrolled": true
   },
   "outputs": [
    {
     "name": "stdout",
     "output_type": "stream",
     "text": [
      "#ЛЕНИН В ГРОБУ  \n",
      "Я шел по красным коврам Дома союзов — тихо, в очереди, затаив дыханье, думал:  \n",
      "«Сейчас увижу лицо твое, Учитель, — и прощай. Навеки. Больше ни этого знакомого лба, ни сощуренных глаз, ни голой, круглой головы — ничего не увижу».  \n",
      "Мы все ближе, ближе…  \n",
      "Все ярче огни — электричеством залит зал, заставленный цветами. Посреди зала, на красном — в красном — лежит Ленин: лицо бело как бумага, спокойно, на нем ни морщин, ни страданья — оно далеко от тревог, оно напоминает спокойствием своим лицо спящего младенца. Он, говорят, перед смертью не страдал — умер тихо, без корч, без судорог, без мук. Эта тихая смерть положила печать спокойствия и на дорогое лицо. Как оно прекрасно, это лицо! Я знаю, что еще прекрасней оно потому, что — любимое, самое любимое, самое дорогое. Я видел Ильича последний раз года два-три назад. Теперь, в гробу, он бледней, худей — осунулся вдвое, только череп — крутой и гладкий, — как тогда, одинаков. Вот вижу со ступенек все лицо, с закрытыми глазами, потом ближе и ближе — вот одна впалая щека и ниже ее чуточная бородка. Брови, словно приклеенные, четко отделяются на бледном лице — так при жизни они не выступали — теперь кажутся они гуще и черней…  \n",
      "Движется, движется человеческая цепочка, слева направо, вокруг изголовья, за гроб. Виден только череп… Блестит голой, широкой покатостью… И дальше идем — снова щека — другая, левая… Идем и оглядываемся — каждому еще и еще хоть один раз надо взглянуть на лицо, запечатлеть его в памяти, до конца дней запомнить. И снова по красным коврам идем, проходами, коридорами Дома союзов — выходом на Дмитровку. А у крыльца — толпа: тысячная, стотысячная, до Тверской, по Дмитровке — везде она волнуется, ждет очереди отдать последний поклон покойному вождю, любимому Ильичу. \n",
      "\n",
      "--\n",
      "\n",
      "\n",
      "Среда. Сегодня утром Кирилл пошел за хлебом и сказал, что Ленин умер! Во всем городе траур. Магазины по случаю траура закрыты. Весть пришла вчера вечером. Весь город в скорби. Жаль, что газет нет. Кончил писать повесть «Седая старина». Читал Мережковского «Дафнис и Хлоя», «Наука любви», «Любовь сильнее смерти», «Микель Анжело». \n",
      "\n",
      "--\n",
      "\n",
      "\n",
      "Играл на рояле: учил каденцию 2-го Концерта и 5-ю Сонату. Был у Манухина, он нашёл дальнейшее улучшение моего сердца. Предписал продолжать принимать фосфорные препараты: фитин и глицерофосфат, так как главный изъян моего организма — недостаток фосфора. Я действительно чувствую себя лучше и последнее время могу спать на левом боку. Также меньше возбуждается сердце при занятиях музыкой. Вечером сидели в столовой за столом, писали письма и раскладывали пасьянс. \n",
      "\n",
      "--\n",
      "\n",
      "\n",
      "День почався знов з флага,.. цим разом з чорною облямівкою. Помер Ленін. Помер, дарма що офіціальні «правительственные сообщения» казенним стилем промовляли казенні фрази, що йому краще, що він ходить, цікавиться справами, читає, мало не пише і навіть тиждень чи два тому «їздив на полювання». Ще напередодні смерти на з’їзді Рад у Москві було заявлено urЬі еі огЬі,<com id=\"1475914980414\"/> що «Ільїч поправляється». Власне, ніхто тому не вірив, і самі високоофіціяльні фігури, бо знають усі, що з прогресивного параліча не вихожуються, не поправляються. І от, немов щоб посміятися з офіціяльної брехні, другого дня по новому її оповіщенні він узяв та й умер. Довелося «симулювати» наглу смерть.    \n",
      "Власне, помер він давно, з рік тому, як не можна вже стало таїтися з хворобою, чи звертати її на «замах есерів 1918 р.» Ще відтоді був це труп, який жадної не мав ваги в політичному житті й який за живоття обернувся в якісь мощі чи чудотворний образ, що його іменем козиряли за урочистих оказій. Смерть фізична нічого не може взяти з того, що духовно давно вже померло. Але психологічно все-таки це подія. Комуністи спантеличились. Обиватель — холодний і байдужий читає пишні оповістки, чухаючи потилицю, з наказу міліції вивішує чорні флаги, тихцем злорадствує і лихословить та натовпом облягає мануфактурні крамниці, збуваючи «червінці»: а ну ж вони покотяться донизу. І хоча фактично нічого не змінилось, але психологічно утворюється грунт може за того «неустойчивого равновесия», в якому перебуваємо, й не зовсім безпечний. Це розуміють «партійці» і виходячи з мітингів після офіціяльних славословій, злісно сичать на натовп: контрреволюціонери!... А це зовсім не контрреволюція, а просто збайдужнілі, глибоко перелякані, ні до чого не цікаві люде. І зробили їх такими ті ж самі, що тепер злісно на них нарікають.    \n",
      "На довгий час почнеться ота казенна словесность, в якій слово «геній» мигтітиме певне так часто і акуратно, як телеграфний стовп над залізничною колією. Я читаю Леніна з перших його виступів, з середини 90-х років і його грубий тон ординарного агітатора ніколи не промовляв мені до душі. Плеханов був далеко талановитіший. До генія йому, як письменникові, певна річ дуже далеко. Як практичний політик, він більший: сильна вдача безперечно виявляється, яка не розбираючи пре просто вперед, не загадуючи, що з того вийде. Сильна вдача і може — прогресивний параліч. Наслідки чуємо всіма фібрами. Лад, який повстав з цього поєднання, в кращому разі од миколаєвського ріжниться тим, що нема царя Миколи II, а натомість став Микола III Ленін. Це в кращому разі, бо більшої реакції, політичної й громадської, ніж та, що стала за наслідок «твердої вдачі» або прогресивного параліча Леніна, світ ще не видав. І не побачить ніколи. Червона аракчеєвщина — здобуток Леніна, як політика. Ну, а в такім разі чому ж не прокламувати і «без лести преданного» теж за генія?    \n",
      "Оратор на одному з сьогоднішніх мітингів договорився до того, що треба перейменувати Москву на Ленінське. Авдиторія мовчки (тепер усе мовчки приймається) ухвалила. Може й перейменують. Адже перейменували Хрещатик на вулицю Воровського. \n",
      "\n",
      "--\n",
      "\n",
      "\n",
      "–15°. Резкая погода, холодный ветер. В Музей пришел около 10, вслед за мною Карзинкин, после чего Музей оцепили, и никто из сотрудников не был пропущен. Тело Ленина привезено было на Павелецкий вокзал в 1 ч., оттуда гроб [нрзб.] с телом перенесли в Благородное собрание (в Колонную залу). Я смотрел из окна на Забелинский проезд на процессию, которая подошла к Музею около 1⁄4 3-го; впереди несли крышку гроба, а гроб, обитый красной материей, несли на плечах; гроб покрыт стеклом, тело было видно, руки сложены на животе; процессия с плакатами, войска шли, по крайней мере, 3⁄4 часа. Вчера в Музее умер отец жены Щекотова; Щекотов позвал А.А. и меня к себе, угостил кофе, я съел сала; после чего мы уехали с Лубянской площади домой. \n",
      "\n",
      "--\n",
      "\n",
      "\n",
      "Среда. По Сфаяту носится одно восклицание: «Ленин умер! Вы слышали — Ленин умер!» — «Воскреснет!» — «Да нет, факт!» — «Он бессмертен». — «Он уже двадцать раз умирал…» Официальное сообщение из Москвы: «Троцкий арестован» и т. д. и т. д. \n",
      "\n",
      "--\n",
      "\n",
      "\n",
      "Вечером выехала в Москву. (Едем вчетвером — Миша, Семенов, зав. астраханским рабфаком Якубов и я.) \n",
      "\n",
      "--\n",
      "\n",
      "\n",
      "Конечно, мы знали, что ему хуже, что надо готовиться к этому скорбному часу. Но все же не могли осознать и поверить. В полпредстве мы все ходим растерянные, убитые, заплаканные. Будто весь мир опустел. Жутко и больно. Бедная Надежда Константиновна и бедные компартии всего мира...    \n",
      "Коммунисты и Рабочая партия созвали огромный траурный митинг. Самое большое помещение было переполнено, но тысячи стояли еще у входа, на улице. В зале слышались рыдания. Сейчас рабочие остро чувствуют, что означал Ленин для рабочего класса всего мира. \n",
      "\n",
      "--\n",
      "\n",
      "\n",
      "[Без даты.] Не знаю, с чего начать. Слишком много впечатлений. Вчера в 6 часов вечера меня поразило сообщение о смерти Владимира Ильича Ленина.    \n",
      "Умер не простой человек, а гений, пророк, самый замечательный в мире человек. Кругом траур и траур. Все увеселительные заведения, вино — пиво закрыты до 27 января. Везде собрания, посвященные памяти Ленина. Умер он 21-го в 6 часов 50 минут вечера. Этот день объявлен днем траура всей России, Человечество стало на несколько голов ниже со смертью величайшего вождя партии Ленина. Не буду об этом распространяться. Отмечу, что мне жаль его, от чистого сердца, до глубины души, как никого.    \n",
      "7 лет Советы пережили голод и гражданские войны, и во все эти невзгоды был он, а как началась спокойная жизнь, его не стало.    \n",
      "Из газет узнал, что Петроград переименован в Ленинград. Завтра будут похороны Ильича. В момент опускания гроба в могилу будет даже приостановлено железнодорожное движение на 5 минут. \n",
      "\n",
      "--\n",
      "\n",
      "\n",
      "Среда    \n",
      "Еще утром Настя (домработница) сообщила мне:    \n",
      "— Аннушка, — (это молочница), — говорит, что Троцкого убили!    \n",
      "— Верно, она путает, — отвечаю я лениво, вполне равнодушная к судьбам Троцкого. — Троцкий в отставку вышел!    \n",
      "А только что пришел со службы Бой с известием, что умер Ленин. И странно было при мысли, что этот маленький железный человечек, некогда кричавший с балкона дворца Кшесинской, стал достоянием истории! \n",
      "\n",
      "--\n",
      "\n",
      "\n",
      "В кружке изучения России довольно хорошо. Осокин — содержательнейший, отчетливый, ясного практического, крестьянского направления. Рафальский тоже ходит.    \n",
      "Была в Ските. Хорош английский рассказ Тидемана о России. Просто даже талантливо. Ничего себе «Кавалерийская баллада» Лебедева. \n",
      "\n",
      "--\n",
      "\n",
      "\n",
      "Умер вождь советской России Владимир Ильич Ленин. \n",
      "\n",
      "--\n",
      "\n",
      "\n"
     ]
    }
   ],
   "source": [
    "# дневниковые записи по отдельности\n",
    "for l in L2:\n",
    "    print(l.text, \"\\n\\n--\\n\\n\")"
   ]
  },
  {
   "cell_type": "code",
   "execution_count": 95,
   "metadata": {},
   "outputs": [],
   "source": [
    "sentences2 = []\n",
    "for i in L2:\n",
    "    tex2 = i.text\n",
    "    sentences2.append(tex2)"
   ]
  },
  {
   "cell_type": "code",
   "execution_count": 96,
   "metadata": {},
   "outputs": [],
   "source": [
    "lemmatext2 = []\n",
    "for sentence in sentences2:\n",
    "    lemmas = m.lemmatize(sentence)\n",
    "    lemmatext2.extend(lemmas)"
   ]
  },
  {
   "cell_type": "code",
   "execution_count": 192,
   "metadata": {
    "scrolled": true
   },
   "outputs": [
    {
     "name": "stdout",
     "output_type": "stream",
     "text": [
      "['ленин', 'гроб', 'идти', 'красный', 'ковер', 'дом', 'союз', 'тихо', 'очередь', 'затаивать', 'дыхание', 'думать', 'увидеть', 'лицо', 'учитель', 'прощай', 'навеки', 'знакомый', 'лоб', 'сощуривать', 'глаз', 'голый', 'круглый', 'голова', 'ничто', 'увидеть', 'яркий', 'огонь', 'электричество', 'заливать', 'зал', 'заставлять', 'цветок', 'зал', 'красный', 'красный', 'лежать', 'ленин', 'лицо', 'белый', 'бумага', 'спокойно', 'морщина', 'страдание', 'тревога', 'напоминать', 'спокойствие', 'свой', 'лицо', 'спящий', 'младенец', 'говорить', 'смерть', 'страдать', 'умирать', 'тихо', 'корча', 'судорога', 'мука', 'тихий', 'смерть', 'полагать', 'печать', 'спокойствие', 'дорогой', 'лицо', 'лицо', 'знать', 'любимый', 'самый', 'любимый', 'самый', 'дорогой', 'видеть', 'ильич', 'последний', 'гроб', 'бледный', 'худой', 'осунуться', 'вдвое', 'череп', 'крутой', 'гладкий', 'одинаковый', 'видеть', 'ступенька', 'лицо', 'закрывать', 'глаз', 'впалый', 'щека', 'чуточный', 'бородка', 'бровь', 'словно', 'приклеивать', 'четко', 'отделяться', 'бледный', 'лицо', 'выступать', 'казаться', 'густой', 'черный', 'двигаться', 'двигаться', 'человеческий', 'цепочка', 'слева', 'направо', 'изголовье', 'гроб', 'видный', 'череп', 'блестеть', 'голый', 'широкий', 'покатость', 'идти', 'щека', 'левый', 'идти', 'оглядываться', 'взглядывать', 'лицо', 'запечатлевать', 'память', 'конец', 'запоминать', 'красный', 'ковер', 'идти', 'проход', 'коридор', 'дом', 'союз', 'выход', 'дмитровка', 'крыльцо', 'толпа', 'тысячная', 'стотысячный', 'тверская', 'дмитровка', 'волноваться', 'ждать', 'очередь', 'отдавать', 'последний', 'поклон', 'покойный', 'вождь', 'любимый', 'ильич', 'среда', 'утро', 'кирилл', 'пойти', 'хлеб', 'ленин', 'умирать', 'город', 'траур', 'магазин', 'случай', 'траур', 'закрывать', 'весть', 'приходить', 'вчера', 'вечер', 'город', 'скорбь', 'жаль', 'газета', 'кончать', 'писать', 'повесть', 'седой', 'старина', 'читать', 'мережковский', 'дафнис', 'хлоя', 'наука', 'любовь', 'любовь', 'сильный', 'смерть', 'микель', 'анжело', 'играть', 'рояль', 'учить', 'каденция', 'го', 'концерт', 'ю', 'соната', 'манухин', 'находить', 'дальнейший', 'улучшение', 'сердце', 'предписывать', 'продолжать', 'принимать', 'фосфорный', 'препарат', 'фитин', 'глицерофосфат', 'главный', 'изъян', 'организм', 'недостаток', 'фосфор', 'чувствовать', 'последний', 'спать', 'левый', 'бок', 'возбуждаться', 'сердце', 'занятие', 'музыка', 'вечер', 'сидеть', 'столовая', 'стол', 'писать', 'письмо', 'раскладывать', 'пасьянс', 'почався', 'знов', 'з', 'флаг', 'цим', 'разом', 'з', 'чорна', 'облямівкою', 'помирать', 'Ленін', 'помирать', 'дарма', 'що', 'офіціальні', 'правительственный', 'сообщение', 'казенний', 'стиль', 'промовлять', 'казенні', 'фразь', 'що', 'йом', 'кращ', 'що', 'він', 'ходить', 'цікавиться', 'справа', 'читає', 'пише', 'і', 'навіть', 'тиждень', 'чи', 'їздив', 'полювання', 'Ще', 'напередодні', 'смерть', 'з', 'їзді', 'рад', 'Москві', 'було', 'заявлять', 'urЬі', 'еі', 'огЬі', 'com', 'id', 'що', 'Ільїч', 'поправляється', 'власня', 'ніхто', 'вірив', 'і', 'самі', 'високоофіціяльні', 'фігури', 'бо', 'знають', 'усі', 'що', 'з', 'прогресивный', 'параліча', 'вихожуються', 'поправляються', 'І', 'щоба', 'посмиятися', 'з', 'офіціяльної', 'брехні', 'новый', 'її', 'оповіщенні', 'він', 'узява', 'й', 'умирать', 'довелось', 'симулювати', 'наглу', 'смерть', 'власня', 'помирать', 'він', 'з', 'рік', 'як', 'можный', 'вже', 'становиться', 'таїтися', 'з', 'хвороба', 'чи', 'звертати', 'її', 'замах', 'есерів', 'р', 'Ще', 'відтоді', 'був', 'це', 'труп', 'якия', 'жадної', 'мав', 'вага', 'політичному', 'житті', 'й', 'якия', 'животть', 'обернувся', 'якісь', 'мощі', 'чи', 'чудотворний', 'образ', 'що', 'його', 'іменем', 'козирять', 'урочистих', 'оказия', 'смерть', 'фізична', 'нічого', 'взять', 'з', 'що', 'духовно', 'вже', 'помирать', 'але', 'психологічно', 'все-таки', 'це', 'подий', 'Комуністи', 'спантеличиваться', 'обиватель', 'холодний', 'і', 'байдужье', 'читає', 'пишні', 'оповістки', 'чухаючи', 'потилицю', 'з', 'наказ', 'міліції', 'вивішує', 'чорні', 'флаг', 'тихец', 'злорадствує', 'і', 'лихословить', 'натовпом', 'облягає', 'мануфактурні', 'крамниці', 'збуваючи', 'червінці', 'вонь', 'покотяться', 'донизу', 'І', 'хоча', 'фактичный', 'нічого', 'змінилось', 'але', 'психологічно', 'утворюється', 'грунт', 'неустойчивый', 'равновесие', 'якому', 'перебуваємо', 'й', 'зовсім', 'беспечний', 'це', 'розумиють', 'партійці', 'і', 'виходячий', 'з', 'мітингів', 'після', 'офіціяльних', 'славословие', 'злісно', 'сичать', 'натовп', 'контрреволюционерить', 'це', 'зовсім', 'контрреволюция', 'збайдужнілі', 'глибоко', 'перелякані', 'ні', 'чого', 'цікаві', 'люда', 'І', 'зроблять', 'їх', 'ті', 'самі', 'що', 'тепер', 'злісно', 'нарікають', 'довгий', 'час', 'почнеться', 'ота', 'казенный', 'словесность', 'якия', 'слово', 'гений', 'мигтітиме', 'певна', 'і', 'акуратно', 'як', 'телеграфний', 'стовп', 'залізничною', 'колією', 'читать', 'Леніна', 'з', 'переть', 'його', 'виступів', 'з', 'серединять', 'х', 'років', 'і', 'його', 'грубия', 'тон', 'ординарный', 'агітатора', 'ніколи', 'промовлять', 'мені', 'душі', 'плеханов', 'був', 'талановитіший', 'гений', 'йом', 'як', 'письменникові', 'певна', 'річ', 'дуж', 'як', 'практичний', 'політик', 'він', 'більший', 'сильный', 'вдача', 'бесперечно', 'виявляється', 'як', 'розбираючи', 'пря', 'вперед', 'загадуючи', 'що', 'з', 'вийда', 'сильный', 'вдача', 'і', 'прогресивния', 'параліч', 'Наслідки', 'чуємо', 'всіма', 'фібрами', 'лад', 'якия', 'повставать', 'з', 'цього', 'поєднання', 'кращому', 'разі', 'ода', 'миколаєвського', 'ріжниться', 'тим', 'що', 'нема', 'царь', 'миколь', 'II', 'натомість', 'становиться', 'микола', 'III', 'Ленін', 'це', 'кращом', 'разі', 'бо', 'більшої', 'реакції', 'політичної', 'й', 'громадської', 'ніж', 'що', 'становиться', 'наслідок', 'твердої', 'вдачі', 'або', 'прогресивный', 'параліча', 'Леніна', 'світ', 'ще', 'видать', 'І', 'побачить', 'ніколи', 'червон', 'аракчеєвщина', 'здобутка', 'Леніна', 'як', 'політика', 'такім', 'разі', 'чом', 'прокламуватить', 'і', 'лесть', 'преданный', 'теж', 'гений', 'оратор', 'з', 'сьогоднішніх', 'мітингів', 'договорився', 'що', 'треба', 'перейменуватить', 'москва', 'Ленінське', 'авдитория', 'мовчки', 'тепер', 'ус', 'мовчки', 'приймається', 'ухваливать', 'й', 'перейменують', 'аджа', 'перейменувалить', 'хрещатик', 'вулицю', 'воровський', 'резкий', 'погода', 'холодный', 'ветер', 'музей', 'приходить', 'вслед', 'карзинкин', 'музей', 'оцеплять', 'никто', 'сотрудник', 'пропускать', 'тело', 'ленин', 'привозить', 'павелецкий', 'вокзал', 'ч', 'оттуда', 'гроб', 'нрзб', 'тело', 'перенести', 'благородный', 'собрание', 'колонный', 'зала', 'смотреть', 'окно', 'забелинский', 'проезд', 'процессия', 'подходить', 'музей', 'го', 'впереди', 'нести', 'крышка', 'гроб', 'гроб', 'обивать', 'красный', 'материя', 'нести', 'плечо', 'гроб', 'покрывать', 'стекло', 'тело', 'видно', 'рука', 'слагать', 'живот', 'процессия', 'плакат', 'войско', 'идти', 'крайний', 'мера', 'час', 'вчера', 'музей', 'умирать', 'отец', 'жена', 'щекотов', 'щекотов', 'позвать', 'угощать', 'кофе', 'съедать', 'сало', 'уезжать', 'лубянский', 'площадь', 'домой', 'среда', 'сфаят', 'носиться', 'восклицание', 'ленин', 'умирать', 'слышать', 'ленин', 'умирать', 'воскресать', 'факт', 'бессмертный', 'умирать', 'официальный', 'сообщение', 'москва', 'троцкий', 'арестовывать', 'д', 'д', 'вечер', 'выезжать', 'москва', 'ехать', 'вчетвером', 'миша', 'семенов', 'зав', 'астраханский', 'рабфак', 'якубов', 'знать', 'плохо', 'готовиться', 'скорбный', 'час', 'осознавать', 'поверять', 'полпредство', 'ходить', 'растерянный', 'убитый', 'заплакать', 'мир', 'опустеть', 'жутко', 'больно', 'бедный', 'надежда', 'константиновна', 'бедный', 'компартия', 'мир', 'коммунист', 'рабочий', 'партия', 'созывать', 'огромный', 'траурный', 'митинг', 'самый', 'большой', 'помещение', 'переполнять', 'тысяча', 'стоять', 'вход', 'улица', 'зал', 'слышаться', 'рыдание', 'рабочий', 'остро', 'чувствовать', 'означать', 'ленин', 'рабочий', 'класс', 'мир', 'дата', 'знать', 'начинать', 'впечатление', 'вчера', 'час', 'вечер', 'поражать', 'сообщение', 'смерть', 'владимир', 'ильич', 'ленин', 'умирать', 'простой', 'гений', 'пророк', 'самый', 'замечательный', 'мир', 'траур', 'траур', 'увеселительный', 'заведение', 'вино', 'пиво', 'закрытый', 'январь', 'собрание', 'посвящать', 'память', 'ленин', 'умирать', 'го', 'час', 'минута', 'вечер', 'объявлять', 'траур', 'россия', 'человечество', 'становиться', 'голова', 'низкий', 'смерть', 'великий', 'вождь', 'партия', 'ленин', 'распространяться', 'отмечать', 'жаль', 'чистый', 'сердце', 'глубина', 'душа', 'никто', 'совет', 'переживать', 'голод', 'гражданский', 'война', 'невзгода', 'начинаться', 'спокойный', 'становиться', 'газета', 'узнавать', 'петроград', 'переименовывать', 'ленинград', 'завтра', 'похороны', 'ильич', 'момент', 'опускание', 'гроб', 'могила', 'приостанавливать', 'железнодорожный', 'движение', 'минута', 'среда', 'утро', 'настя', 'домработница', 'сообщать', 'аннушка', 'молочница', 'говорить', 'троцкий', 'убивать', 'верно', 'путать', 'отвечать', 'лениво', 'вполне', 'равнодушный', 'судьба', 'троцкий', 'троцкий', 'отставка', 'выходить', 'приходить', 'служба', 'бой', 'известие', 'умирать', 'ленин', 'странно', 'мысль', 'маленький', 'железный', 'человечек', 'некогда', 'кричать', 'балкон', 'дворец', 'кшесинский', 'становиться', 'достояние', 'история', 'кружок', 'изучение', 'россия', 'осокин', 'содержательный', 'отчетливый', 'ясный', 'практический', 'крестьянский', 'направление', 'рафальский', 'ходить', 'скит', 'хороший', 'английский', 'рассказ', 'тидеман', 'россия', 'талантливо', 'кавалерийский', 'баллада', 'лебедев', 'умирать', 'вождь', 'советский', 'россия', 'владимир', 'ильич', 'ленин']\n"
     ]
    }
   ],
   "source": [
    "lemmas2 = filter(filter_word, lemmatext2)\n",
    "lemmas2 = list(lemmas2)\n",
    "print(lemmas2) #лемматизированный текст без стоп-слов"
   ]
  },
  {
   "cell_type": "code",
   "execution_count": 204,
   "metadata": {},
   "outputs": [],
   "source": [
    "#Counter(lemmas2).most_common(100)\n",
    "a2 = round((Counter(lemmas2)['ленин']/len(lemmas2)*100), 1)\n",
    "b2 = round((Counter(lemmas2)['ленинский']/len(lemmas2)*100), 1)\n",
    "d2 = round((Counter(lemmas2)['ильич']/len(lemmas2)*100), 1)\n",
    "c2 = round((Counter(lemmas2)['вождь']/len(lemmas2)*100), 1)"
   ]
  },
  {
   "cell_type": "code",
   "execution_count": 227,
   "metadata": {},
   "outputs": [
    {
     "name": "stdout",
     "output_type": "stream",
     "text": [
      "Употребление слова 'Ленин' в этот день: 1.3 %\n",
      "Употребление слова 'ленинский' в этот день: 0.0 %\n",
      "Употребление слова 'Ильич' в этот день: 0.5 %\n",
      "Употребление слова 'вождь' в этот день: 0.3 %\n",
      "Примерный процент упоминания Ленина в этот день: 2.1 %\n"
     ]
    }
   ],
   "source": [
    "print(\"Употребление слова 'Ленин' в этот день:\", a2, \"%\")\n",
    "print(\"Употребление слова 'ленинский' в этот день:\", b2, \"%\")\n",
    "print(\"Употребление слова 'Ильич' в этот день:\", d2, \"%\")\n",
    "print(\"Употребление слова 'вождь' в этот день:\", c2, \"%\")\n",
    "print(\"Примерный процент упоминания Ленина в этот день:\", a2+b2+d2+c2, \"%\")"
   ]
  },
  {
   "cell_type": "markdown",
   "metadata": {},
   "source": [
    "#### День 3 после смерти"
   ]
  },
  {
   "cell_type": "code",
   "execution_count": 98,
   "metadata": {},
   "outputs": [],
   "source": [
    "L3 = notes.searchDate((1924, 1, 24))"
   ]
  },
  {
   "cell_type": "code",
   "execution_count": 99,
   "metadata": {},
   "outputs": [
    {
     "name": "stdout",
     "output_type": "stream",
     "text": [
      "Записей в этот день: 8\n"
     ]
    }
   ],
   "source": [
    "print(\"Записей в этот день:\", len(L3))"
   ]
  },
  {
   "cell_type": "code",
   "execution_count": 100,
   "metadata": {
    "scrolled": true
   },
   "outputs": [
    {
     "name": "stdout",
     "output_type": "stream",
     "text": [
      "Четверг. Мороз и пурга. Нанесло снега. Мороз в 15°. Мама испекла яблочное печенье. Сегодня начал читать Альфонса Додэ «Необыч. приключения Тартарена из Тараскона». Сегодня так раскалилась плита, что случилось несколько несчастий: сгорела кочерга, отскочила эмаль у нашего чайника и тлела юбка H. Р. \n",
      "\n",
      "--\n",
      "\n",
      "\n",
      "Учил каденцию. Ездил в русское консульство за паспортом для Пташки, а то у неё всё ещё девичий испанский. Всякие затруднения, но у консула дочь консерваторка, и узнав, что «тот Прокофьев», он обещал устроить.    \n",
      "Вечером Фру-Фру рассказывала про дни Временного правительства и про Керенского, который женился на её кузине. Ругала его за то, что он управление государством путал с романтическими похождениями. \n",
      "\n",
      "--\n",
      "\n",
      "\n",
      "Все, что пело, звучало, сияло, переливалось сверкающей радугой в моей жизни — потускнело, стало беззвучным, приостановилось и затихло.    \n",
      "Ритм жизни, текучесть, радость. Неужели все это — что было же и до Иоанна — все это собралось, как в фокусе кристалла лучи света, в имени его, и когда волей или неволей уклоняешься от этого фокуса — портится зрение? Вот когда пытаюсь тронуть эту завесу, опустившуюся на мою жизнь, какое-то оцепенение, враждебное или мудрое, накрывает голову мою черным платком. Закрывает глаза рукой, как сон. Пусть так и будет: было, прошло, теперь нет. Живое во мне теперь — братья, дети, Валя, Добровы, Коваленские, Зина, Вавочка.    \n",
      "Нехорошая пустота во мне. Надо наполнить ее работой, книгой, сном — сплю плохо. Читаю, как пьяница пьет, как курильщик курит — нехорошо. Хорошо, что попался Нансен. Книга озонная, легко дышать. С детьми хорошо. И им хорошо со мной. Доверчивы, хорошо заняты. \n",
      "\n",
      "--\n",
      "\n",
      "\n",
      "Газети (київські) говорять тільки про Леніна. Але як блідо, нецікаво, безталанно говорять! Ні на одну свіжу думку не здобулися казенні пера, жадного проблеску щирого чуття, живого почування великої втрати. Патетично, напушисто («Никогда не перестанет Ленинское сердце клокотать у революции в груди!» — це ж спеціально вигадати таку пошлість треба!), казенно, мертво... Ці люде, мабуть, безнадійно видихались, або й не мали духу ніколи, коли навіть така втрата не може викресати з них вогню живого почуття. Офіціяльне славослов’я, брехнею зогріте. Стиль акафистів, тільки без тієї примітивної безпосередньої віри, що часто скрашує ці витвори церковної елоквенції. Коли б Ленін міг читати цю безбарвну писанину, то, певне, пожалував би за опозиційною пресою: краще жива зненависть, ніж це мертве і мертвуще славословіє, що своє вбожество і байдужість квітчає фольговими квітами надуманого фразерства.    \n",
      "Хтось з ораторів (про це написано в «Прол. Правді») розповідав, що він чув розмову Леніна по телефону з сестрою. Сестра казала: «Я опоздаю сегодня домой, ты, вероятно, не обедал, так там в духовке каша — подкрепись». Деталь з кашею зворушлива, тільки оратор не пояснив, як він ухитрився почути, що казала Леніну його сестра по телефону. \n",
      "\n",
      "--\n",
      "\n",
      "\n",
      "–14°. Мужчина, которому я определял его 74 монеты, пришел в Музей; я ему отдал монеты, он спросил цену, я назначил по 10 к. золотом, т. е. 7 р. 40 к., он нашел это дешево и заплатил мне 10 р. золотом, т.е. советский червонец. Был Н.П. Лихачев, уезжающий завтра в С.-Петербург, послал с ним письмо Зографу. В 2 ч. были прерваны занятия; Незнамов и Щекотов сказали несколько слов о Ленине. Около 3-х ч. я пошел в Кубу (Столешников); чтобы пройти из Музея в Столешников, должен был пройти через Большую Никитскую, Газетный переулок, так как Театральная площадь вся занята народом, идущим поклониться телу Ленина. Вечером заходили к нам Вера Попова и Аделина Антоновна Карзинкина. \n",
      "\n",
      "--\n",
      "\n",
      "\n",
      "В вагоне. Пила с коммунистами и с Корбутом вино Трошина. Нарочно. \n",
      "\n",
      "--\n",
      "\n",
      "\n",
      "Все газеты, даже враждебные Советской России, посвящают большие статьи Ленину. Признают его как большого государственного человека, социального реформатора, идеалиста-философа.    \n",
      "О Ленине пишут, как о «великом человеке», и я представляю себе, как бы он улыбнулся своей чуть иронической улыбкой и сказал: «Это неплохо, если так пишут обо мне. Значит, и враги учитывают, что советское государство — «великий факт», с которым не шутят».    \n",
      "Я неотступно думаю о Ленине, но не как о «великом государственном человеке», а как об «Ильиче», которого мы так тепло любили и верили его проницательному, творческому уму. Я хочу писать о нем, но не сейчас. Еще не могу... \n",
      "\n",
      "--\n",
      "\n",
      "\n",
      "Макс сразил меня новостью, что наш перевод Эредиа запрещен, так как уже вышел в Госиздате в переводе Глушкова. Я не утерпела и в P.S. записки Мэтру приписала: «Узнаю Вашу звезду. Года плодотворной работы, совершенно бесцельной. Это Style Lozinsky».    \n",
      "На улицах почти не чувствуется смерть Ленина. Закрыты театры. Да в некоторых магазинах выставлены его бюсты и портреты, задрапированные черным и красным. Петербург просит его тело себе и тогда будет переименован в город Ленина! (sic!). Надеюсь, что Москва не уступит этой чести! \n",
      "\n",
      "--\n",
      "\n",
      "\n"
     ]
    }
   ],
   "source": [
    "# дневниковые записи по отдельности\n",
    "for l in L3:\n",
    "    print(l.text, \"\\n\\n--\\n\\n\")"
   ]
  },
  {
   "cell_type": "code",
   "execution_count": 101,
   "metadata": {},
   "outputs": [],
   "source": [
    "sentences3 = []\n",
    "for i in L3:\n",
    "    tex3 = i.text\n",
    "    sentences3.append(tex3)"
   ]
  },
  {
   "cell_type": "code",
   "execution_count": 102,
   "metadata": {},
   "outputs": [],
   "source": [
    "lemmatext3 = []\n",
    "for sentence in sentences3:\n",
    "    lemmas = m.lemmatize(sentence)\n",
    "    lemmatext3.extend(lemmas)"
   ]
  },
  {
   "cell_type": "code",
   "execution_count": 201,
   "metadata": {
    "scrolled": true
   },
   "outputs": [
    {
     "name": "stdout",
     "output_type": "stream",
     "text": [
      "['четверг', 'мороз', 'пурга', 'наносить', 'снег', 'мороз', 'мама', 'испечь', 'яблочный', 'печение', 'начинать', 'читать', 'альфонса', 'додэ', 'необыч', 'приключение', 'тартарен', 'тараскон', 'раскаляться', 'плита', 'случаться', 'несчастие', 'сгорать', 'кочерга', 'отскочить', 'эмаль', 'чайник', 'тлеть', 'юбка', 'H', 'р', 'учить', 'каденция', 'ездить', 'русский', 'консульство', 'паспорт', 'пташка', 'девичий', 'испанский', 'всякий', 'затруднение', 'консул', 'дочь', 'консерваторка', 'узнавать', 'прокофьев', 'обещать', 'устраивать', 'вечер', 'фру', 'фру', 'рассказывать', 'временный', 'правительство', 'керенский', 'жениться', 'кузина', 'ругать', 'управление', 'государство', 'путать', 'романтический', 'похождение', 'петь', 'звучать', 'сиять', 'переливаться', 'сверкать', 'радуга', 'потускнеть', 'становиться', 'беззвучный', 'приостанавливаться', 'затихать', 'ритм', 'текучесть', 'радость', 'неужели', 'иоанн', 'собираться', 'фокус', 'кристалл', 'луч', 'свет', 'воля', 'неволей', 'уклоняться', 'фокус', 'портиться', 'зрение', 'пытаться', 'тронуть', 'завеса', 'опускаться', 'какой-то', 'оцепенение', 'враждебный', 'мудрый', 'накрывать', 'голова', 'черный', 'платок', 'закрывать', 'глаз', 'рука', 'сон', 'пусть', 'проходить', 'живой', 'брат', 'ребенок', 'валя', 'добров', 'коваленский', 'зина', 'вавочка', 'нехороший', 'пустота', 'наполнять', 'работа', 'книга', 'сон', 'спать', 'плохо', 'читать', 'пьяница', 'пить', 'курильщик', 'курить', 'нехорошо', 'попадаться', 'нансен', 'книга', 'озонный', 'легко', 'дышать', 'ребенок', 'доверчивый', 'занятый', 'газети', 'київські', 'говорять', 'тільки', 'Леніна', 'але', 'як', 'блідо', 'нецікаво', 'бесталанный', 'говорять', 'Ні', 'свіжу', 'думка', 'здобулисить', 'казенні', 'перо', 'жадный', 'проблеск', 'щирый', 'чутть', 'живой', 'почування', 'великої', 'втрать', 'патетично', 'напушисто', 'переставать', 'ленинский', 'сердце', 'клокотать', 'революция', 'грудь', 'це', 'специально', 'вигадать', 'така', 'пошлість', 'треба', 'казенный', 'мертво', 'Ці', 'люда', 'мабутить', 'безнадийный', 'видихаться', 'або', 'й', 'мали', 'дух', 'ніколи', 'коли', 'навіть', 'така', 'втрата', 'викресати', 'з', 'вогнь', 'живой', 'почутть', 'Офіціяльне', 'славослов', 'брехня', 'зогріте', 'стиль', 'акафистів', 'тільки', 'тієї', 'примітивної', 'безпосередньої', 'віри', 'що', 'скрашує', 'ці', 'витворять', 'церковної', 'елоквенції', 'коли', 'б', 'Ленін', 'міг', 'читати', 'цю', 'безбарвну', 'писанина', 'певна', 'пожалувать', 'би', 'опозицийный', 'преса', 'краща', 'живой', 'зненависть', 'ніж', 'це', 'мертва', 'і', 'мертвущий', 'славословіє', 'що', 'своє', 'вбожество', 'і', 'байдужість', 'квітчає', 'фольговая', 'квітами', 'надуманый', 'фразерство', 'хтось', 'з', 'ораторів', 'це', 'написать', 'прол', 'Правді', 'розповідав', 'що', 'він', 'чув', 'розмов', 'Леніна', 'телефон', 'з', 'сестра', 'сестра', 'казать', 'опаздывать', 'домой', 'вероятно', 'обедать', 'духовка', 'каша', 'подкрепляться', 'деталь', 'з', 'каша', 'зворушливый', 'тільки', 'оратор', 'пояснять', 'як', 'він', 'ухитрився', 'почуть', 'що', 'казать', 'Леніну', 'його', 'сестра', 'телефон', 'мужчина', 'определять', 'монета', 'приходить', 'музей', 'отдавать', 'монета', 'спрашивать', 'цена', 'назначать', 'золото', 'р', 'находить', 'дешевый', 'заплатить', 'р', 'золото', 'советский', 'червонец', 'н', 'п', 'лихачев', 'уезжать', 'завтра', 'петербург', 'посылать', 'письмо', 'зограф', 'ч', 'прерывать', 'занятие', 'незнамов', 'щекот', 'слово', 'ленин', 'х', 'ч', 'пойти', 'куба', 'столешников', 'проходить', 'музей', 'столешников', 'должный', 'проходить', 'большой', 'никитский', 'газетный', 'переулок', 'театральный', 'площадь', 'занимать', 'народ', 'идти', 'поклониться', 'тело', 'ленин', 'вечер', 'заходить', 'вера', 'попов', 'аделин', 'антоновна', 'карзинкин', 'вагон', 'пить', 'коммунист', 'корбут', 'вино', 'трошин', 'нарочно', 'газета', 'враждебный', 'советский', 'россия', 'посвящать', 'большой', 'статья', 'ленин', 'признавать', 'большой', 'государственный', 'социальный', 'реформатор', 'идеалист', 'философ', 'ленин', 'писать', 'великий', 'представлять', 'улыбаться', 'свой', 'иронический', 'улыбка', 'неплохо', 'писать', 'обо', 'враг', 'учитывать', 'советский', 'государство', 'великий', 'факт', 'шутить', 'неотступный', 'думать', 'ленин', 'великий', 'государственный', 'ильич', 'тепло', 'любить', 'верить', 'проницательный', 'творческий', 'ум', 'писать', 'немой', 'макс', 'сражать', 'новость', 'перевод', 'эредиа', 'запрещать', 'выходить', 'госиздат', 'перевод', 'глушков', 'утерпеть', 'P', 'S', 'записка', 'мэтр', 'приписывать', 'узнавать', 'звезда', 'плодотворный', 'работа', 'совершенно', 'бесцельный', 'Style', 'Lozinsky', 'улица', 'чувствоваться', 'смерть', 'ленин', 'закрывать', 'театр', 'некоторый', 'магазин', 'выставлять', 'бюст', 'портрет', 'задрапировывать', 'черный', 'красный', 'петербург', 'просить', 'тело', 'переименовывать', 'город', 'ленин', 'sic', 'надеяться', 'москва', 'уступать', 'честь']\n"
     ]
    }
   ],
   "source": [
    "lemmas3 = filter(filter_word, lemmatext3)\n",
    "lemmas3 = list(lemmas3)\n",
    "print(lemmas3) #лемматизированный текст без стоп-слов"
   ]
  },
  {
   "cell_type": "code",
   "execution_count": 211,
   "metadata": {},
   "outputs": [],
   "source": [
    "#Counter(lemmas3).most_common(100)\n",
    "a3 = round((Counter(lemmas3)['ленин']/len(lemmas3)*100), 1)\n",
    "b3 = round((Counter(lemmas3)['ленинский']/len(lemmas3)*100), 1)\n",
    "d3 = round((Counter(lemmas3)['ильич']/len(lemmas3)*100), 1)\n",
    "c3 = round((Counter(lemmas3)['вождь']/len(lemmas3)*100), 1)"
   ]
  },
  {
   "cell_type": "code",
   "execution_count": 228,
   "metadata": {},
   "outputs": [
    {
     "name": "stdout",
     "output_type": "stream",
     "text": [
      "Употребление слова 'Ленин' в этот день: 1.5 %\n",
      "Употребление слова 'ленинский' в этот день: 0.2 %\n",
      "Употребление слова 'Ильич' в этот день: 0.2 %\n",
      "Употребление слова 'вождь' в этот день: 0.0 %\n",
      "Примерный процент упоминания Ленина в этот день: 1.9 %\n"
     ]
    }
   ],
   "source": [
    "print(\"Употребление слова 'Ленин' в этот день:\", a3, \"%\")\n",
    "print(\"Употребление слова 'ленинский' в этот день:\", b3, \"%\")\n",
    "print(\"Употребление слова 'Ильич' в этот день:\", d3, \"%\")\n",
    "print(\"Употребление слова 'вождь' в этот день:\", c3, \"%\")\n",
    "print(\"Примерный процент упоминания Ленина в этот день:\", a3+b3+d3+c3, \"%\")"
   ]
  },
  {
   "cell_type": "markdown",
   "metadata": {},
   "source": [
    "#### День 4 после смерти"
   ]
  },
  {
   "cell_type": "code",
   "execution_count": 104,
   "metadata": {},
   "outputs": [],
   "source": [
    "L4 = notes.searchDate((1924, 1, 25))"
   ]
  },
  {
   "cell_type": "code",
   "execution_count": 105,
   "metadata": {},
   "outputs": [
    {
     "name": "stdout",
     "output_type": "stream",
     "text": [
      "Записей в этот день: 8\n"
     ]
    }
   ],
   "source": [
    "print(\"Записей в этот день:\", len(L4))"
   ]
  },
  {
   "cell_type": "code",
   "execution_count": 106,
   "metadata": {
    "scrolled": true
   },
   "outputs": [
    {
     "name": "stdout",
     "output_type": "stream",
     "text": [
      "В здоровье Вл. Ильича Ленина после некоторой поправки здоровья, которая позволяла надеяться на его скорое возвращение к государственной работе, наступило внезапное ухудшение, и 21-го в 6 часов 50 минут он скончался при явлениях паралича дыхательного центра. Известие это в Баку дошло только на второй день вечером, а я об этом узнал только утром 23-го. Неожиданность на меня подействовала очень сильно: я был захвачен врасплох. Я целый день находился под впечатлением смерти Ильича. Но вечером я был у Харазова, и его равнодушное отношение к случившемуся (а также и «признание» Ленина только человеком гениальной воли, но отнюдь не ума) меня остудило. И уж совершенно успокоенный, даже удивленный своим утренним состоянием, пошел я от Харазова к Иванову. Там собралась теплая компания: композитор Глиэр<com id=\"14887234704164\"/>, поэт М. Гальперин<com id=\"14887234704165\"/>, проф. Искусства Фридолин<com id=\"14887234704166\"/>, В.М. Зуммер<com id=\"14887234704167\"/>, С.В. Троцкий и еще кое-кто. Глиэр и Гальперин прибыли недавно из Москвы, и последний делился с нами своими впечатлениями. Заверяя нас, что это не обывательские слухи, а совершенно точно проверенные факты, он рассказывал, что Л. Троцкий находился 6 дней под арестом и последовавшая затем его поездка в Сухум — вынужденная. Такова же и поездка Луначарского в Сибирь... Всем верховодят Зиновьев, Бухарин и Сталин. Крепнет кампания против НЭПа, и вновь назревает ситуация восемнадцатого года. Происходит спор за деление наследства Ленина, и сейчас в революции нашей предробеспьеровский момент... <...> \n",
      "\n",
      "--\n",
      "\n",
      "\n",
      "Пятница. Сегодня Танины именины. Ходил в школу. Занимались географией. Потом было общее собрание по случаю смерти Ленина. Е.И. Добровольский прочитал обращение ВЦИКа, Моров — биографию Ленина, М.Я. Красинский охарактеризовал работу Ильича. Кончил читать «Тартарена», взял почитать у Смойловского «Приключения Финна». Вечером у нас были в гостях Е.С. Федотова, А.Е. и П.Е. Калениченко, Николаевы, Варя Фохт, Эги Рапп, Надя Пужаченко. Е.С. подарила Тане золотое колечко с темно-зеленым камнем, Варя Фохт печенье. Играли. Лег в 1/4 2-го. \n",
      "\n",
      "--\n",
      "\n",
      "\n",
      "Эберг сообщил, что маленький нью-йоркский театрик на четыреста мест The Neighborhood Playhouse хочет поставить в марте «Шута», на сокращённом оркестре, в собственной переделке. Писал Дягилев, спрашивая разрешения, ибо он владеет «Шутом» ещё на два с половиной года. Событие это — малого калибра, и постановка будет, видимо, ерундовая, но могут прислать несколько сот долларов — и то хлеб.    \n",
      "В Обществе авторов рассчитывал получить кое-какие деньги, но дали только пятьдесят два франка — ибо это, главным образом, за летние месяцы, когда мало что исполняется.    \n",
      "Вечером был у Кусевицкого, видел Бальмонта, с которым радостная встреча и который читал свой новый рассказ «Мужик Пётр». Очень консистентно<com id=\"14496915684468\"/> с точки зрения языка, но, мне кажется, неудачно с точки зрения формы. Бальмонт повторил своё желание напечатать книжку сонетов: переводы Эредиа — его, мои и Б.Н. \n",
      "\n",
      "--\n",
      "\n",
      "\n",
      "Всю неделю хворает Неличка. Температура держит, боли, переходим от надежды к тревоге. Приходил русский профессор, нас только напугал. Вчера был чех и поставил новый диагноз, — вместо аппендицита — воспаление желчного пузыря. Сегодня легче. Я чувствую себя виноватым пред Нелей за ее болезнь, сокровенными грехами своего сердца. На этой неделе 24 делал вечер рожд<ественский> для студентов, было хорошо и задушевно. Конечно, сам никогда не чувствуешь себя удовлетворенным, но ведь кто же о них позаботится, их пожалеет... А когда вернулся домой, Неличка была в жару и металась... \n",
      "\n",
      "--\n",
      "\n",
      "\n",
      "Похорон спершу призначено на суботу, а потім перенесено на неділю. Чому? Старі ортодоксальні євреї на це одповідають: «Ну, разве вы не знаєте, что наш закон запрещает хоронить в субботу». Характерний жарт!    \n",
      "Згадалось мені ще з новітнього фольклору. Молочниця, селянка, що носить до Києва молоко, якось розказувала: «Перше був один цар, а тепер два настало: Ленін — наш ніби-то — та жидівський — Троцкін, чи якось там. Та їхній про них безпокоїться — от їм і добре живеться, а наш за нас не дбає — то нам і горе». Теж vox populi<com id=\"1475914980415\"/>, на який так люблять посилатись большевики. \n",
      "\n",
      "--\n",
      "\n",
      "\n",
      "–15°. Память матери, царство ей небесное. Температура низкая, на улицах около –20°. В Музее много сотрудников не пришло. Из Музея вышел около 4-х часов, с трудом прошел через Театральную площадь в Столешников переулок в Кубу, где купил кое-чего для Танюши; поехал к ней, обедал, было немного народу, я в 7 часов уехал. Дома посидел у железной печи, погрелся вместе с именинницей Татьяной Сергеевной Коссович, в 11 ч. лег спать. \n",
      "\n",
      "--\n",
      "\n",
      "\n",
      "Приехали в Москву<com id=\"148243787014498\"/>. Были у гроба Ленина. \n",
      "\n",
      "--\n",
      "\n",
      "\n",
      "Что сегодня делается в Москве? В полпредстве мы все как-то жмемся друг к другу. Чувство огромной пустоты, скорби и страха... Как это мир будет без Ленина?    \n",
      "Пиночка<com id=\"14840789441415\"/> украсила черным крепом портрет Ленина и поставила перед ним свежие цветы, так мы точно ближе к его гробу. \n",
      "\n",
      "--\n",
      "\n",
      "\n"
     ]
    }
   ],
   "source": [
    "# дневниковые записи по отдельности\n",
    "for l in L4:\n",
    "    print(l.text, \"\\n\\n--\\n\\n\")"
   ]
  },
  {
   "cell_type": "code",
   "execution_count": 107,
   "metadata": {},
   "outputs": [],
   "source": [
    "sentences4 = []\n",
    "for i in L4:\n",
    "    tex4 = i.text\n",
    "    sentences4.append(tex4)"
   ]
  },
  {
   "cell_type": "code",
   "execution_count": 108,
   "metadata": {},
   "outputs": [],
   "source": [
    "lemmatext4 = []\n",
    "for sentence in sentences4:\n",
    "    lemmas = m.lemmatize(sentence)\n",
    "    lemmatext4.extend(lemmas)"
   ]
  },
  {
   "cell_type": "code",
   "execution_count": 210,
   "metadata": {
    "scrolled": true
   },
   "outputs": [
    {
     "name": "stdout",
     "output_type": "stream",
     "text": [
      "['здоровье', 'Вл', 'ильич', 'ленин', 'некоторый', 'поправка', 'здоровье', 'позволять', 'надеяться', 'скорый', 'возвращение', 'государственный', 'работа', 'наступать', 'внезапный', 'ухудшение', 'го', 'час', 'минута', 'скончаться', 'явление', 'паралич', 'дыхательный', 'центр', 'известие', 'баку', 'доходить', 'вечер', 'узнавать', 'утро', 'го', 'неожиданность', 'подействовать', 'сильно', 'захватить', 'врасплох', 'целый', 'находиться', 'впечатление', 'смерть', 'ильич', 'вечер', 'харазов', 'равнодушный', 'отношение', 'случаться', 'признание', 'ленин', 'гениальный', 'воля', 'отнюдь', 'ум', 'остужать', 'совершенно', 'успокаивать', 'удивлять', 'свой', 'утренний', 'состояние', 'пойти', 'харазов', 'иванов', 'собираться', 'теплый', 'компания', 'композитор', 'глиэр', 'com', 'id', 'поэт', 'гальперин', 'com', 'id', 'проф', 'искусство', 'фридолин', 'com', 'id', 'зуммер', 'com', 'id', 'троцкий', 'кое-кто', 'глиэр', 'гальперин', 'прибывать', 'москва', 'последний', 'делиться', 'свой', 'впечатление', 'заверять', 'обывательский', 'слух', 'совершенно', 'точно', 'проверенный', 'факт', 'рассказывать', 'л', 'троцкий', 'находиться', 'арест', 'последовать', 'поездка', 'сухум', 'вынужденный', 'таков', 'поездка', 'луначарский', 'сибирь', 'верховодить', 'зиновьев', 'бухарин', 'сталин', 'крепнуть', 'кампания', 'нэп', 'вновь', 'назревать', 'ситуация', 'происходить', 'спор', 'деление', 'наследство', 'ленин', 'революция', 'предробеспьеровский', 'момент', 'пятница', 'танин', 'именины', 'ходить', 'школа', 'заниматься', 'география', 'общий', 'собрание', 'случай', 'смерть', 'ленин', 'добровольский', 'прочитывать', 'обращение', 'вцик', 'биография', 'ленин', 'красинский', 'охарактеризовать', 'работа', 'ильич', 'кончать', 'читать', 'тартарен', 'взять', 'почитать', 'смойловский', 'приключение', 'финн', 'вечер', 'гость', 'федотов', 'п', 'калениченко', 'николаев', 'варя', 'фохт', 'эги', 'рапп', 'надя', 'пужаченко', 'подарить', 'таня', 'золотой', 'колечко', 'темно-зеленый', 'камень', 'варя', 'фохт', 'печение', 'играть', 'ложиться', 'го', 'эберг', 'сообщать', 'маленький', 'нью-йоркский', 'театрик', 'четыреста', 'место', 'The', 'Neighborhood', 'Playhouse', 'поставлять', 'март', 'шут', 'сокращенный', 'оркестр', 'собственный', 'переделка', 'писать', 'дягилев', 'спрашивать', 'разрешение', 'ибо', 'владеть', 'шут', 'половина', 'событие', 'малое', 'калибр', 'постановка', 'видимо', 'ерундовый', 'присылать', 'сотня', 'доллар', 'хлеб', 'общество', 'автор', 'рассчитывать', 'получать', 'кое-какой', 'деньги', 'давать', 'пятьдесят', 'франк', 'ибо', 'главный', 'образ', 'летний', 'месяц', 'исполняться', 'вечер', 'кусевицкий', 'видеть', 'бальмонт', 'радостный', 'встреча', 'читать', 'свой', 'новый', 'рассказ', 'мужик', 'петр', 'консистентный', 'com', 'id', 'точка', 'зрение', 'язык', 'казаться', 'неудачно', 'точка', 'зрение', 'форма', 'бальмонт', 'повторять', 'свой', 'желание', 'напечатать', 'книжка', 'сонет', 'перевод', 'эредиа', 'б', 'н', 'неделя', 'хворать', 'неличка', 'температура', 'держать', 'боль', 'переходить', 'надежда', 'тревога', 'приходить', 'русский', 'профессор', 'напугать', 'вчера', 'чех', 'поставлять', 'новый', 'диагноз', 'вместо', 'аппендицит', 'воспаление', 'желчный', 'пузырь', 'легко', 'чувствовать', 'виноватый', 'пред', 'неля', 'болезнь', 'сокровенный', 'грех', 'свой', 'сердце', 'неделя', 'делать', 'вечер', 'рожд', 'ественский', 'студент', 'задушевно', 'чувствовать', 'удовлетворять', 'позаботиться', 'пожалеть', 'вернуться', 'домой', 'неличка', 'жара', 'метаться', 'похороны', 'сперша', 'призначать', 'субота', 'потім', 'перенести', 'неділю', 'чом', 'Старі', 'ортодоксальні', 'євреї', 'це', 'одповідають', 'знаєте', 'закон', 'запрещать', 'хоронить', 'суббота', 'характерний', 'жарт', 'згадаться', 'мені', 'ще', 'з', 'новітнього', 'фольклор', 'Молочниця', 'селянка', 'що', 'носить', 'Києва', 'молоко', 'якось', 'розказувать', 'перш', 'був', 'цар', 'тепер', 'наставать', 'Ленін', 'ніби', 'жидівський', 'Троцкін', 'чи', 'якось', 'їхній', 'безпокоїться', 'їм', 'і', 'добро', 'живечиваться', 'дбає', 'і', 'горе', 'теж', 'vox', 'populi', 'com', 'id', 'якия', 'люблять', 'посилатиться', 'большевик', 'память', 'мать', 'царство', 'небесный', 'температура', 'низкий', 'улица', 'музей', 'сотрудник', 'приходить', 'музей', 'выходить', 'х', 'час', 'труд', 'проходить', 'театральный', 'площадь', 'столешников', 'переулок', 'куба', 'купить', 'кое-что', 'танюша', 'поехать', 'обедать', 'народ', 'час', 'уезжать', 'дома', 'посидеть', 'железный', 'печь', 'погреться', 'вместе', 'именинница', 'татьяна', 'сергеевна', 'коссович', 'ч', 'ложиться', 'спать', 'приезжать', 'москва', 'com', 'id', 'гроб', 'ленин', 'делаться', 'москва', 'полпредство', 'как-то', 'жаться', 'друг', 'друг', 'чувство', 'огромный', 'пустота', 'скорбь', 'страх', 'мир', 'ленин', 'пиночка', 'com', 'id', 'украшать', 'черный', 'креп', 'портрет', 'ленин', 'поставлять', 'свежий', 'цветок', 'точно', 'гроб']\n"
     ]
    }
   ],
   "source": [
    "lemmas4 = filter(filter_word, lemmatext4)\n",
    "lemmas4 = list(lemmas4)\n",
    "print(lemmas4) #лемматизированный текст без стоп-слов"
   ]
  },
  {
   "cell_type": "code",
   "execution_count": 220,
   "metadata": {},
   "outputs": [],
   "source": [
    "#Counter(lemmas4).most_common(100)\n",
    "a4 = round((Counter(lemmas4)['ленин']/len(lemmas4)*100), 1)\n",
    "b4 = round((Counter(lemmas4)['ленинский']/len(lemmas4)*100), 1)\n",
    "d4 = round((Counter(lemmas4)['ильич']/len(lemmas4)*100), 1)\n",
    "c4 = round((Counter(lemmas4)['вождь']/len(lemmas4)*100), 1)"
   ]
  },
  {
   "cell_type": "code",
   "execution_count": 229,
   "metadata": {},
   "outputs": [
    {
     "name": "stdout",
     "output_type": "stream",
     "text": [
      "Употребление слова 'Ленин' в этот день: 1.8 %\n",
      "Употребление слова 'ленинский' в этот день: 0.0 %\n",
      "Употребление слова 'Ильич' в этот день: 0.7 %\n",
      "Употребление слова 'вождь' в этот день: 0.0 %\n",
      "Примерный процент упоминания Ленина в этот день: 2.5 %\n"
     ]
    }
   ],
   "source": [
    "print(\"Употребление слова 'Ленин' в этот день:\", a4, \"%\")\n",
    "print(\"Употребление слова 'ленинский' в этот день:\", b4, \"%\")\n",
    "print(\"Употребление слова 'Ильич' в этот день:\", d4, \"%\")\n",
    "print(\"Употребление слова 'вождь' в этот день:\", c4, \"%\")\n",
    "print(\"Примерный процент упоминания Ленина в этот день:\", a4+b4+d4+c4, \"%\")"
   ]
  },
  {
   "cell_type": "markdown",
   "metadata": {},
   "source": [
    "#### День 5 после смерти"
   ]
  },
  {
   "cell_type": "code",
   "execution_count": 110,
   "metadata": {},
   "outputs": [],
   "source": [
    "L5 = notes.searchDate((1924, 1, 26))"
   ]
  },
  {
   "cell_type": "code",
   "execution_count": 111,
   "metadata": {},
   "outputs": [
    {
     "name": "stdout",
     "output_type": "stream",
     "text": [
      "Записей в этот день: 7\n"
     ]
    }
   ],
   "source": [
    "print(\"Записей в этот день:\", len(L5))"
   ]
  },
  {
   "cell_type": "code",
   "execution_count": 112,
   "metadata": {
    "scrolled": true
   },
   "outputs": [
    {
     "name": "stdout",
     "output_type": "stream",
     "text": [
      "Суббота. Страшная метель — пурга. Сугробы снега метутся в воздухе. Резкий ветер со всех сторон. Не видно ни зги. Окна заледенели и залеплены снегом. 15° мороза. По случаю ужасной погоды никуда не выходил. Сидел дома и читал «Приключения Финна». Очень интересная книга! Меню: щи и свинина. \n",
      "\n",
      "--\n",
      "\n",
      "\n",
      "На сьогодні звелено вже чорні прапори вивісити. Скрізь і висять. Багато імпровізованих. Бачив я чорну хустку, бачив чорну вуальку, навіть цілу спідницю з кишенями. Як і офіціяльні газетчики, обиватель — з примусу дає сурогат, аби дешевше одбутися з повинністю. Зате залюбки вправляється у вигадках. Сьогодні знов дещо чув з новітнього фольклору. Нібито Маркса аж оце свіжо тільки пущено до раю, а то десь блукав у просторах. За ним учепився й Ленін. На брамі стоп — не пускають. «Та я його ученик!» Ні, не можна, зажди. Тоді один з воротарів «з наших» надумався. «Лізь, каже в мішок». Ленін поліз. Тоді той подав мішка через браму: «Там пройшов Маркс — так це його барахло. Передайте!» \n",
      "\n",
      "--\n",
      "\n",
      "\n",
      "Окна совсем замерзли, термометра не видно; в моей комнате +7°. На улицах температура –25°. В 2 ч. пошел к А.А., он поправляется. \n",
      "\n",
      "--\n",
      "\n",
      "\n",
      "Суббота. Неужели же он не придет? Вот уже и суббота, и 4 часа, а его все нет! А в четверг, когда заходил к нам прострочить погоны, сам звал меня, если будет хорошая погода, и «в воскресенье или в субботу» пойти за нарциссами. Погода великолепная, можно ходить без… (не дописано. — *И.Н.).*   \n",
      "**###** *Полночь.*     \n",
      "Вечером был Вася. Сначала были малыши, потом ушли. И в этот вечер я «принадлежала» ему, если это есть «обладание». Он держал мои руки, касался головой моего плеча и лица, целовал меня. Потом я посмотрела ему в глаза и спросила прямо: «Что вы от меня хотите?» — «Ничего». — «Тогда зачем вы играете?» — «Так, просто, Ирочка». — «От скуки?» Он мотнул головой. «А мне это больно», — сказала я уже с горечью. «Больно? Зачем? Ирочка, не надо…» — «Да, больно. Вам это, Вася, непонятно, а вот если когда‑нибудь испытаете это сами, поймете». — «Ирочка, я не буду играть, никогда не буду. Я не знал, что вам это больно. Простите меня». — «Я не сержусь, Вася, только не надо». — «Я не знал, что вам это неприятно». — «А без игры вам будет скучно?» — «Ну что ж? Я не хочу, чтоб вам было больно». — «Разве вам это не все равно?» — «Нет, совсем не все равно». Мне было грустно, смутно, пусто и ясно, я все еще хотела во что‑то верить, угадать в нем хоть немножко любви. Точь‑в‑точь как Косолапенко. Но Вася был прост, искренен и откровенен. Мне хотелось прижаться к нему и плакать, но я поборола себя. Я сказала ему, что все должно оставаться по‑старому, завтра мы идем за нарциссами, и я постараюсь установить наши отношения. Уходя, он обнял меня и поцеловал. В последний раз. Я ему сказала, что «не надо больше игры», и он ушел.    \n",
      "За последнее время я настолько привыкла к таким нравственным встряскам, что могу совершенно хладнокровно и спокойно писать эти строки. Васиной любовницей не буду, а предложу ему свою дружбу. Только едва ли после этого возможна дружба. Порвать с ним совсем я не хочу и даже боюсь. Я не верю в его порочность. Это ребячество, искание новых ощущений, тоже игра, которой забавляюсь я с П.Е. Пусть он не любит меня, я здесь ему все‑таки ближе всех. \n",
      "\n",
      "--\n",
      "\n",
      "\n",
      "Хлопоты и дела по городу. \n",
      "\n",
      "--\n",
      "\n",
      "\n",
      "Смерть Ленина произвела громадное впечатление на Москву. Эти 4 дня везде и всюду говорили только о Ленине. Все газеты пишут только о Ленине. Из всех читанных мною статей, наиболее сильной по-моему является переданная по телеграфу из Тифлиса статья Троцкого «Ленина нет!» Сам Троцкий должен сегодня приехать в Москву на похороны. Мы всей школой ходили в колонный зал Дома союзов к гробу Владимира Ильича. Мы почти не ждали на улице, т.к. учащихся пропускали раньше. Молча, без шапок двигалась бесконечная процессия длинной анфиладой канат, между двумя рядами неподвижно застывших часовых. Входим в залу. Тихо. Торжественно. Колонны перевиты  красными, черными полосами. Где то играют похоронный марш. По середине на возвышении красный гроб. Мы обходим его с левой стороны. Я мельком вижу в профиль лицо покойного. Оно как то миниатюрно. Высокого «ленинского» лба я не заметил. Лицо небольшое желтое напряженно-спокойное. Ничего особенного в нем нет. Жаль, что я не мог рассмотреть его подробнее. Нельзя было задержаться ни минуты, наверху плакат: «Умер Ленин, но дело его живет». Да. Но выживет ли? Прав ли Ленин? Это увидят мои дети под старость. Плакат. Ильич умер, Ленин – жив.  Это хорошо \n",
      "\n",
      "--\n",
      "\n",
      "\n",
      "Были похороны Ленина, было торжество, шествие по улицы и митинг. Много говорили о его смерти. \n",
      "\n",
      "--\n",
      "\n",
      "\n"
     ]
    }
   ],
   "source": [
    "# дневниковые записи по отдельности\n",
    "for l in L5:\n",
    "    print(l.text, \"\\n\\n--\\n\\n\")"
   ]
  },
  {
   "cell_type": "code",
   "execution_count": 113,
   "metadata": {},
   "outputs": [],
   "source": [
    "sentences5 = []\n",
    "for i in L5:\n",
    "    tex5 = i.text\n",
    "    sentences5.append(tex5)"
   ]
  },
  {
   "cell_type": "code",
   "execution_count": 114,
   "metadata": {},
   "outputs": [],
   "source": [
    "lemmatext5 = []\n",
    "for sentence in sentences5:\n",
    "    lemmas = m.lemmatize(sentence)\n",
    "    lemmatext5.extend(lemmas)"
   ]
  },
  {
   "cell_type": "code",
   "execution_count": 216,
   "metadata": {
    "scrolled": true
   },
   "outputs": [
    {
     "name": "stdout",
     "output_type": "stream",
     "text": [
      "['суббота', 'страшный', 'метель', 'пурга', 'сугроб', 'снег', 'местись', 'воздух', 'резкий', 'ветер', 'сторона', 'видно', 'зга', 'окно', 'заледенеть', 'залеплять', 'снег', 'мороз', 'случай', 'ужасный', 'погода', 'выходить', 'сидеть', 'дома', 'читать', 'приключение', 'финн', 'интересный', 'книга', 'меню', 'щи', 'свинина', 'сьогодні', 'звелено', 'вже', 'чорні', 'прапарывать', 'вивісити', 'Скрізь', 'і', 'висять', 'багато', 'імпровізованих', 'бачивать', 'чорнуть', 'хустка', 'бачивать', 'чорна', 'вуалька', 'навіть', 'цілу', 'спідницю', 'з', 'кишень', 'як', 'і', 'офіціяльні', 'газетчик', 'обиватель', 'з', 'примус', 'дає', 'сурогат', 'аби', 'дешевша', 'одбутися', 'з', 'повинністю', 'зат', 'залюбка', 'вправляється', 'вигадки', 'Сьогодні', 'знов', 'дещо', 'чув', 'з', 'новітнього', 'фольклор', 'Нібито', 'маркс', 'аж', 'оце', 'свіжо', 'тільки', 'пускать', 'рай', 'десь', 'блукать', 'простор', 'учепився', 'й', 'Ленін', 'брамі', 'стоп', 'пускають', 'його', 'ученик', 'Ні', 'можный', 'зажди', 'Тоді', 'з', 'воротарів', 'з', 'надумався', 'Лізь', 'каж', 'мішок', 'Ленін', 'поліз', 'Тоді', 'подавать', 'мішка', 'брама', 'пройшов', 'маркс', 'це', 'його', 'барахло', 'передавать', 'окно', 'замерзать', 'термометр', 'видно', 'комната', 'улица', 'температура', 'ч', 'пойти', 'поправляться', 'суббота', 'неужели', 'прийти', 'суббота', 'час', 'четверг', 'заходить', 'прострачивать', 'погоны', 'звать', 'хороший', 'погода', 'воскресение', 'суббота', 'пойти', 'нарцисс', 'погода', 'великолепный', 'ходить', 'дописывать', 'н', 'полночь', 'вечер', 'вася', 'малыш', 'уходить', 'вечер', 'принадлежать', 'обладание', 'держать', 'рука', 'касаться', 'голова', 'плечо', 'лицо', 'целовать', 'посмотреть', 'глаз', 'спрашивать', 'прямо', 'играть', 'ирочка', 'скука', 'мотнуть', 'голова', 'больно', 'горечь', 'больно', 'ирочка', 'больно', 'вася', 'непонятно', 'испытывать', 'понимать', 'ирочка', 'играть', 'знать', 'больно', 'прощать', 'сердиться', 'вася', 'знать', 'неприятно', 'игра', 'скучно', 'больно', 'равный', 'равный', 'грустно', 'смутно', 'пусто', 'ясно', 'верить', 'угадывать', 'немножко', 'любовь', 'точь', 'точь', 'косолапенко', 'вася', 'простой', 'искренний', 'откровенный', 'хотеться', 'прижиматься', 'плакать', 'побороть', 'оставаться', 'старый', 'завтра', 'идти', 'нарцисс', 'постараться', 'устанавливать', 'отношение', 'уходить', 'обнимать', 'поцеловать', 'последний', 'игра', 'уходить', 'последний', 'настолько', 'привыкать', 'нравственный', 'встряска', 'совершенно', 'хладнокровно', 'спокойно', 'писать', 'строка', 'васина', 'любовница', 'предлагать', 'свой', 'дружба', 'едва', 'возможный', 'дружба', 'порывать', 'бояться', 'верить', 'порочность', 'ребячество', 'искание', 'новый', 'ощущение', 'игра', 'забавляться', 'п', 'пусть', 'любить', 'таки', 'хлопоты', 'дело', 'город', 'смерть', 'ленин', 'производить', 'громадный', 'впечатление', 'москва', 'говорить', 'ленин', 'газета', 'писать', 'ленин', 'читать', 'статья', 'сильный', 'по-моему', 'являться', 'передавать', 'телеграф', 'тифлис', 'статья', 'троцкий', 'ленин', 'троцкий', 'должный', 'приезжать', 'москва', 'похороны', 'школа', 'ходить', 'колонный', 'зал', 'дом', 'союз', 'гроб', 'владимир', 'ильич', 'ждать', 'улица', 'учащийся', 'пропускать', 'молча', 'шапка', 'двигаться', 'бесконечный', 'процессия', 'длинный', 'анфилада', 'канат', 'ряд', 'неподвижно', 'застывший', 'часовой', 'входить', 'зала', 'тихо', 'торжественно', 'колонна', 'перевивать', 'красный', 'черный', 'полоса', 'играть', 'похоронный', 'марш', 'середина', 'возвышение', 'красный', 'гроб', 'обходить', 'левый', 'сторона', 'мельком', 'видеть', 'профиль', 'лицо', 'покойный', 'миниатюрный', 'высокий', 'ленинский', 'лоб', 'замечать', 'лицо', 'небольшой', 'желтый', 'напряженно', 'спокойный', 'ничто', 'особенный', 'немой', 'жаль', 'рассматривать', 'подробный', 'задерживаться', 'минута', 'плакат', 'умирать', 'ленин', 'дело', 'жить', 'выживать', 'правый', 'ленин', 'увидеть', 'ребенок', 'старость', 'плакат', 'ильич', 'умирать', 'ленин', 'живой', 'хороший', 'похороны', 'ленин', 'торжество', 'шествие', 'улица', 'митинг', 'говорить', 'смерть']\n"
     ]
    }
   ],
   "source": [
    "lemmas5 = filter(filter_word, lemmatext5)\n",
    "lemmas5 = list(lemmas5)\n",
    "print(lemmas5) #лемматизированный текст без стоп-слов"
   ]
  },
  {
   "cell_type": "code",
   "execution_count": 219,
   "metadata": {},
   "outputs": [],
   "source": [
    "#Counter(lemmas5).most_common(100)\n",
    "a5 = round((Counter(lemmas5)['ленин']/len(lemmas5)*100), 1)\n",
    "b5 = round((Counter(lemmas5)['ленинский']/len(lemmas5)*100), 1)\n",
    "d5 = round((Counter(lemmas5)['ильич']/len(lemmas5)*100), 1)\n",
    "c5 = round((Counter(lemmas5)['вождь']/len(lemmas5)*100), 1)"
   ]
  },
  {
   "cell_type": "code",
   "execution_count": 230,
   "metadata": {},
   "outputs": [
    {
     "name": "stdout",
     "output_type": "stream",
     "text": [
      "Употребление слова 'Ленин' в этот день: 2.1 %\n",
      "Употребление слова 'ленинский' в этот день: 0.3 %\n",
      "Употребление слова 'Ильич' в этот день: 0.5 %\n",
      "Употребление слова 'вождь' в этот день: 0.0 %\n",
      "Примерный процент упоминания Ленина в этот день: 2.9 %\n"
     ]
    }
   ],
   "source": [
    "print(\"Употребление слова 'Ленин' в этот день:\", a5, \"%\")\n",
    "print(\"Употребление слова 'ленинский' в этот день:\", b5, \"%\")\n",
    "print(\"Употребление слова 'Ильич' в этот день:\", d5, \"%\")\n",
    "print(\"Употребление слова 'вождь' в этот день:\", c5, \"%\")\n",
    "print(\"Примерный процент упоминания Ленина в этот день:\", a5+b5+d5+c5, \"%\")"
   ]
  },
  {
   "cell_type": "markdown",
   "metadata": {},
   "source": [
    "### День похорон Ленина "
   ]
  },
  {
   "cell_type": "code",
   "execution_count": 116,
   "metadata": {},
   "outputs": [],
   "source": [
    "K = notes.searchDate((1924, 1, 27))"
   ]
  },
  {
   "cell_type": "code",
   "execution_count": 117,
   "metadata": {},
   "outputs": [
    {
     "name": "stdout",
     "output_type": "stream",
     "text": [
      "Записей в этот день: 10\n"
     ]
    }
   ],
   "source": [
    "print(\"Записей в этот день:\", len(K))"
   ]
  },
  {
   "cell_type": "code",
   "execution_count": 118,
   "metadata": {},
   "outputs": [
    {
     "name": "stdout",
     "output_type": "stream",
     "text": [
      "Были похороны В.И.Ленина по всему союзу Республик. \n",
      "\n",
      "--\n",
      "\n",
      "\n",
      "Воскресенье. День похорон В.И. Ленина. Погода с утра была мягкая, серая, начиная же с 3 часов началась форменная метель. Сугробы снега падали с неба. Было темно и зловеще. Сегодня похороны великого вождя! В 1/2 4-го пошел на манифестацию на Соборную площадь. Манифестация уже шла. Все шли медленными шагами, гуськом. В 4 ч. был дан залп из орудий, стоявших перед воротами собора. Орудий было 8 (2 батареи из трехдюймовок). Всего произвели 100 выстрелов. Я стоял неподалеку у самых ворот и, чтобы не оглохнуть, широко раскрывал рот. Начинало темнеть, метель бушевала, а манифестация все шла. Кроме рабочих и служащих участвовали детдома, школы и т.д. У кавалеристов на пиках были черные флажки. Занимался с Кириллом по-немецки. \n",
      "\n",
      "--\n",
      "\n",
      "\n",
      "Утром занимался. Днём ездил в Boulogne, в лечебницу вдовы Плеханова, узнать, нельзя ли поместить туда маму, когда она приедет из Германии. Mme Плеханова меня знала по концертам и всячески старалась быть мне приятной, но всё-таки сорок франков в день.    \n",
      "Днём были Черепнины. Я играл им «Три апельсина» и 5-ю Сонату. \n",
      "\n",
      "--\n",
      "\n",
      "\n",
      "(Похороны Ленина.)    \n",
      "Мороз. Костры. Неисчислимые толпы, вереницы. Тишина. Гудки. \n",
      "\n",
      "--\n",
      "\n",
      "\n",
      "Новый год<com id=\"14697914724111\"/>. Ночь по возвращении из церкви. Господи, благослови новый год! Сейчас служил молебен в церкви, говорил — бледно и тускло. Как много отложилось за этот год и очарований, и безочарований. Год назад я изнемогал от своего католичества и борьбы с ним со стороны православных; теперь это меня оставило и затихло, перестало так меня мучить, но я снова не умею себя найти. Я не могу сказать, чтобы я с этим справился, но и не могу сказать, чтобы разделял то, чем жил в России и с чем ехал. Но этот внутренний провал меня не то что опустошил, но перед самим собой скомпрометировал. Как я могу что-нибудь утверждать, если то, что я пережил так трагически-восторженно и жертвенно, оказалось иллюзией или малодушием... Неимоверно! А в то же время как же жить и работать с та кой разочарованностью в своих силах. Да в последние годы жизни не пора ли перестать и спрашивать, а между тем невольно спрашиваешь.    \n",
      "Больна, больна моя Неличка, и загадочен ее недуг, за мои грехи она страждет. Сегодня у нас ночует Юля вместо Муночки и вместе встречали новый год. Я служил молебен. Будущее закрыто непроницаемой завесой, ничего не видно. Но я перестал уже спрашивать. О Федичке и из Крыма нет известий. Твоя воля да будет... В отношении к западу все-таки получаются раскрытые и пустые объятия, год прошел, а ведь не произошло жизненно никакого сближения. Что это? моя ли неспособность к нему или же не смешиваются масло и вода? Впрочем себя рассмотреть трудно... \n",
      "\n",
      "--\n",
      "\n",
      "\n",
      "Похорон мав бути величній — маніфестації, гудки по всіх заводах разом, стріли з гармат, комуністичні лозунги по радіо в світові простори,- реклама хоч куди. Навсправжки ж вийшло мізерно. Сильний мороз з вітром обернув маніфестантів у якихось французів, як вони тікали з Москви в жіночих кофтах, з обмотаними в мішки ногами, радіо ніхто, звичайно, не чув, хіба на Марсі, а одинокий гудок о 4-тій годині гудів досить сиротливо. Зате в завтрашній газеті стрекотання буде за всі голови — гучніше ніж сьогоднішні гудки та гармати.    \n",
      "Дивно мені одне: люде борються з релігією шалено, а нічого кращого не вигадали, як огорнути Леніна чисто релігийними формами: оте виставлювання його тіла «на поклонение» (так і написано в церемоніялі!), отой скелеп з бальзамованим тілом (чим не мощі?), отой пишний по-візантійському церемоніал... Хіба це не релігійні форми? Далеко зі свого погляду розумніше зробили б большевики, коли б удалися до крематорія й спалили були тіло: принаймні консеквентно було б. А ніхто до того не додумався. От як побут і «старі забобони» панують над розумом!    \n",
      "І ще друге: марксисти одкидать героїв і героїчне, а з Леніна (та й не з одного його) зробили надгероя, кумира, перед яким кадять, кланяються та розбивають лоби. І тут психіка дужча од доктринерства. Правда, багато й од спекуляції тут єсть, самореклами, од бажання використати може востаннє ім’я Леніна, для себе, для тих, що лишились. «Ленін помер — лишились ми, його партія, йдіть до нас», — це на всі голоси проказують епігони. Так, це його партія, він її створив... Але досить трохи пошукати в пам’яти, щоб допевнитись, що творець не дуже-то своє створіння поважав.    \n",
      "Пригадується з недавніх його афоризмів крилате слово про «коммунистическое невежество, коммунистическое чванство, коммунистическое взяточничество». По сути він глибоко нехтував свою череду, яка тільки й знала, що кадити йому. Теж рисочка, якої марксизм, здається, не передбачає й не бере на увагу. \n",
      "\n",
      "--\n",
      "\n",
      "\n",
      "Воскресенье. –21°. Топил печь, утром в моей комнате было +6°. В 2 ч. пошел к А.А. Карзинкину, обедал у него, он поправился. В 4 ч. слушали гудки фабрик по случаю похорон Ленина. Судя по газетам, Петербург переименовывается в Ленинград (!?), а Кронштадт в крепость Ильича (!?). \n",
      "\n",
      "--\n",
      "\n",
      "\n",
      "Воскресенье. Ходили с Васей за нарциссами. Очень далеко, обогнули весь Кебир. Было хорошо во всех отношениях: грело солнце по‑весеннему, цветов мало (там грязь непролазная), на душе просто и легко. Вася сам начал разговор о вчерашнем; ему хочется играть, он говорит, что в этом нет ничего плохого. «Надо на все смотреть легче, не обращать внимания». Я сказала ему, что недавно сама играла его роль, зная, чем все это может кончиться, и не ему быть Косолапенкой, т. е. надоесть ему, чтобы он почувствовал ко мне неприязнь, и что боюсь прекратить игру, потому что боюсь потерять его. «Ведь кроме вас нет ни одного человека, с которым я была бы откровенна». Говорили о жизни — вообще, о нашей — в частности. Васе не понравился мой взгляд на жизнь как на сложную загадку. «Нет, Ирина, надо жить так, чтобы было весело». — «Но ведь кроме жизни внешней, есть еще жизнь внутренняя». — «О, если только внешняя хороша, то и внутренняя тоже». — «Ну, в этом мы никогда друг друга не поймем». — «Я, конечно, не знаю, может быть, потом буду думать не так». — «Я не сомневаюсь, но все‑таки у нас с вами никогда не будет точки пересечения». — «Почему?» — «Мы из разного теста сделаны». — «Вы уверены? А мне кажется — нет!»    \n",
      "Вообще, сегодняшним днем я довольна. Вася ко мне относится хорошо, по‑дружески, самой любви нет, но есть много симпатии и доверия. А это уже много. \n",
      "\n",
      "--\n",
      "\n",
      "\n",
      "Была на похоронах Ленина. (Семь часов на морозе в —26°.) \n",
      "\n",
      "--\n",
      "\n",
      "\n",
      "Весь вечер у меня сидели Эгеде и Боди. Вспоминали с Эгеде подготовку к Циммервальду, письма Ленина и то огромное, что он сделал своим мужеством и гениальной ясностью мышления, чтобы спасти Интернационал и солидарность рабочего класса в борьбе против войны. Он, Ленин, спас социализм и всех нас в момент самого жуткого краха наших идеалов. Потом вспоминали Ленина, такого простого и всегда внушительного товарища, и уже его как главу государства в первые годы советской власти. И как он заботился о приезжих из заграницы товарищах в эти годы и спрашивал у Эгеде: теплая ли у него комната, и тут же вопрос: как норвежские рабочие оценивают первую в мире Советскую республику трудящихся?    \n",
      "Тогда, в те первые годы, буржуазия злобно, с бешеной ненавистью писала о большевике, узурпаторе Ленине. Сейчас не только здесь, в Норвегии, но и повсюду о смерти Ленина пишут в почтительных тонах, не могут не признавать величия этого человека. Весь мир рабочих оплакивает Ленина, на западе и на востоке. Его смерть точно теснее сплачивает рабочих всех стран. Так мы оцениваем события.    \n",
      "Но что будет с нашей партией?    \n",
      "Боюсь влияния Зиновьева, он развалит Интернационал. Написала письмо Сталину. Говорят о завещании Ленина партии<com id=\"14840789441416\"/>. Все это нервирует, но и думать нечего проситься в Москву.    \n",
      "Советская Россия охвачена не просто трауром, а глубоким горем. Придется и это пережить, будем укреплять партию — это его завет.    \n",
      "Признание (стортинг голосует за признание, подписание актов признания) \n",
      "\n",
      "--\n",
      "\n",
      "\n"
     ]
    }
   ],
   "source": [
    "# дневниковые записи по отдельности\n",
    "for k in K:\n",
    "    print(k.text, \"\\n\\n--\\n\\n\")"
   ]
  },
  {
   "cell_type": "code",
   "execution_count": 119,
   "metadata": {},
   "outputs": [],
   "source": [
    "sentences0 = []\n",
    "for k in K:\n",
    "    tex0 = k.text\n",
    "    sentences0.append(tex0)"
   ]
  },
  {
   "cell_type": "code",
   "execution_count": 120,
   "metadata": {},
   "outputs": [],
   "source": [
    "lemmatext0 = []\n",
    "for sentence in sentences0:\n",
    "    lemmas = m.lemmatize(sentence)\n",
    "    lemmatext0.extend(lemmas)"
   ]
  },
  {
   "cell_type": "code",
   "execution_count": 221,
   "metadata": {
    "scrolled": true
   },
   "outputs": [
    {
     "name": "stdout",
     "output_type": "stream",
     "text": [
      "['похороны', 'ленин', 'союз', 'республика', 'воскресение', 'похороны', 'ленин', 'погода', 'утро', 'мягкий', 'серый', 'начинать', 'час', 'начинаться', 'форменный', 'метель', 'сугроб', 'снег', 'падать', 'небо', 'темно', 'зловеще', 'похороны', 'великий', 'вождь', 'го', 'пойти', 'манифестация', 'соборный', 'площадь', 'манифестация', 'идти', 'идти', 'медленный', 'шаг', 'гуськом', 'ч', 'давать', 'залп', 'орудие', 'стоять', 'ворота', 'собор', 'орудие', 'батарея', 'трехдюймовка', 'производить', 'выстрел', 'стоять', 'неподалеку', 'самый', 'ворота', 'оглохнуть', 'широко', 'раскрывать', 'рот', 'начинать', 'темнеть', 'метель', 'бушевать', 'манифестация', 'идти', 'рабочий', 'служащий', 'участвовать', 'детдом', 'школа', 'д', 'кавалерист', 'пики', 'черный', 'флажок', 'заниматься', 'кирилл', 'по-немецки', 'утро', 'заниматься', 'ездить', 'Boulogne', 'лечебница', 'вдова', 'плеханов', 'узнавать', 'помещать', 'мама', 'приезжать', 'германия', 'Mme', 'плеханов', 'знать', 'концерт', 'всячески', 'стараться', 'приятный', 'все-таки', 'сорок', 'франк', 'черепнина', 'играть', 'апельсин', 'ю', 'соната', 'похороны', 'ленин', 'мороз', 'костер', 'неисчислимый', 'толпа', 'вереница', 'тишина', 'гудок', 'новый', 'com', 'id', 'ночь', 'возвращение', 'церковь', 'господи', 'благословлять', 'новый', 'служить', 'молебен', 'церковь', 'говорить', 'бледно', 'тускло', 'откладываться', 'очарование', 'безочарование', 'изнемогать', 'свой', 'католичество', 'борьба', 'сторона', 'православный', 'оставлять', 'затихать', 'переставать', 'мучить', 'находить', 'справляться', 'разделять', 'жить', 'россия', 'ехать', 'внутренний', 'провал', 'опустошать', 'скомпрометировать', 'что-нибудь', 'утверждать', 'переживать', 'трагически', 'восторженно', 'жертвенно', 'оказываться', 'иллюзия', 'малодушие', 'неимоверно', 'жить', 'работать', 'кой', 'разочарованность', 'свой', 'сила', 'последний', 'переставать', 'спрашивать', 'невольно', 'спрашивать', 'больной', 'больной', 'неличка', 'загадочный', 'недуг', 'грех', 'страждать', 'ночевать', 'юля', 'вместо', 'муночка', 'вместе', 'встречать', 'новый', 'служить', 'молебен', 'будущее', 'закрывать', 'непроницаемый', 'завеса', 'ничто', 'видно', 'переставать', 'спрашивать', 'федичка', 'крым', 'известие', 'воля', 'отношение', 'запад', 'все-таки', 'получаться', 'раскрытый', 'пустой', 'объятие', 'проходить', 'происходить', 'жизненно', 'никакой', 'сближение', 'неспособность', 'смешиваться', 'масло', 'вода', 'рассматривать', 'трудно', 'похороны', 'мав', 'бутить', 'величний', 'маніфестації', 'гудок', 'всіх', 'завод', 'разом', 'стріли', 'з', 'гармата', 'комуністичні', 'лозунг', 'радио', 'світові', 'простори', 'реклама', 'хоч', 'куди', 'навсправжки', 'вийшло', 'мізерно', 'сильний', 'мороз', 'з', 'вітром', 'оборачивать', 'маніфестантів', 'якихось', 'французів', 'як', 'вонь', 'тікали', 'з', 'москви', 'жіночих', 'кофта', 'з', 'обмотание', 'мішки', 'нога', 'радио', 'ніхто', 'звичайно', 'чув', 'хіба', 'Марсі', 'одинокий', 'гудок', 'тий', 'годині', 'гудів', 'досить', 'сиротливый', 'зат', 'завтрашний', 'газеті', 'стрекотання', 'буде', 'всі', 'головить', 'гучніше', 'ніж', 'сьогоднішні', 'гудок', 'гармати', 'дивно', 'мені', 'люда', 'борються', 'з', 'релігією', 'шаливать', 'нічого', 'кращого', 'вигадать', 'як', 'огорнуть', 'Леніна', 'чисто', 'релігийними', 'форма', 'оте', 'виставлювання', 'його', 'тіла', 'поклонение', 'і', 'написать', 'церемоніялі', 'отой', 'скелеп', 'з', 'бальзамованить', 'тілом', 'чим', 'мощі', 'отой', 'пишний', 'візантійському', 'церемониал', 'Хіба', 'це', 'релігійні', 'формить', 'зі', 'свого', 'погляд', 'розумніше', 'зроблять', 'б', 'большевик', 'коли', 'б', 'удалисить', 'крематорий', 'й', 'спалить', 'буль', 'тіло', 'принаймні', 'консеквентный', 'було', 'б', 'ніхто', 'додумався', 'як', 'побувать', 'і', 'старі', 'забобони', 'панують', 'розум', 'І', 'ще', 'друг', 'марксисть', 'одкидать', 'героїв', 'і', 'героїчне', 'з', 'Леніна', 'й', 'з', 'його', 'зроблять', 'надгерой', 'кумир', 'яким', 'кадять', 'кланяються', 'розбивають', 'лоби', 'І', 'психіка', 'дужча', 'ода', 'доктринерство', 'правда', 'багато', 'й', 'ода', 'спекуляції', 'єсть', 'саморекл', 'ода', 'бажання', 'використати', 'востаннє', 'ім', 'Леніна', 'тихий', 'що', 'лишаться', 'Ленін', 'помирать', 'лишаться', 'ми', 'його', 'партия', 'йдіть', 'це', 'всі', 'голосить', 'проказують', 'епігони', 'це', 'його', 'партия', 'він', 'її', 'створять', 'аля', 'досить', 'троха', 'пошукатить', 'пам', 'ять', 'щоба', 'допевнитися', 'що', 'творець', 'дуж', 'своє', 'створіння', 'поважать', 'Пригадується', 'з', 'недавніх', 'його', 'афоризмів', 'крилат', 'слово', 'коммунистический', 'невежество', 'коммунистический', 'чванство', 'коммунистический', 'взяточничество', 'він', 'глибоко', 'нехтувать', 'свой', 'череда', 'як', 'тільки', 'й', 'знать', 'що', 'кадити', 'йом', 'теж', 'рисочка', 'якої', 'марксизм', 'здається', 'передбачає', 'й', 'бер', 'увага', 'воскресение', 'топить', 'печь', 'утро', 'комната', 'ч', 'пойти', 'карзинкин', 'обедать', 'поправляться', 'ч', 'слушать', 'гудок', 'фабрика', 'случай', 'похороны', 'ленин', 'судя', 'газета', 'петербург', 'переименовываться', 'ленинград', 'кронштадт', 'крепость', 'ильич', 'воскресение', 'ходить', 'вася', 'нарцисс', 'огибать', 'кебир', 'отношение', 'греть', 'солнце', 'весенний', 'цвет', 'грязь', 'непролазный', 'душа', 'легко', 'вася', 'начинать', 'разговор', 'вчерашний', 'хотеться', 'играть', 'говорить', 'ничто', 'плохой', 'смотреть', 'легко', 'обращать', 'внимание', 'играть', 'роль', 'знать', 'кончаться', 'косолапенка', 'надоедать', 'почувствовать', 'ко', 'неприязнь', 'бояться', 'прекращать', 'игра', 'бояться', 'потерять', 'откровенный', 'говорить', 'вообще', 'частность', 'вася', 'понравиться', 'взгляд', 'сложный', 'загадка', 'ирина', 'жить', 'весело', 'внешний', 'внутренний', 'внешний', 'хороший', 'внутренний', 'друг', 'друг', 'понимать', 'знать', 'думать', 'сомневаться', 'таки', 'точка', 'пересечение', 'разный', 'тесто', 'сделать', 'уверять', 'казаться', 'вообще', 'сегодняшний', 'довольный', 'вася', 'ко', 'относиться', 'дружески', 'самый', 'любовь', 'симпатия', 'доверие', 'похороны', 'ленин', 'час', 'мороз', 'вечер', 'сидеть', 'эгед', 'боди', 'вспоминать', 'эгед', 'подготовка', 'циммервальд', 'письмо', 'ленин', 'огромный', 'сделать', 'свой', 'мужество', 'гениальный', 'ясность', 'мышление', 'спасать', 'интернационал', 'солидарность', 'рабочий', 'класс', 'борьба', 'война', 'ленин', 'спасать', 'социализм', 'момент', 'самый', 'жуткий', 'крах', 'идеал', 'вспоминать', 'ленин', 'простой', 'внушительный', 'товарищ', 'глава', 'государство', 'советский', 'власть', 'заботиться', 'приезжий', 'заграница', 'товарищ', 'спрашивать', 'эгед', 'теплый', 'комната', 'вопрос', 'норвежский', 'рабочий', 'оценивать', 'мир', 'советский', 'республика', 'трудящийся', 'буржуазия', 'злобно', 'бешеный', 'ненависть', 'писать', 'большевик', 'узурпатор', 'ленин', 'норвегия', 'повсюду', 'смерть', 'ленин', 'писать', 'почтительный', 'тон', 'признавать', 'величие', 'мир', 'рабочий', 'оплакивать', 'ленин', 'запад', 'восток', 'смерть', 'точно', 'тесно', 'сплачивать', 'рабочий', 'страна', 'оценивать', 'событие', 'партия', 'бояться', 'влияние', 'зиновьев', 'развалить', 'интернационал', 'написать', 'письмо', 'сталин', 'говорить', 'завещание', 'ленин', 'партия', 'com', 'id', 'нервировать', 'думать', 'нечего', 'проситься', 'москва', 'советский', 'россия', 'охватывать', 'траур', 'глубокий', 'горе', 'приходиться', 'переживать', 'укреплять', 'партия', 'завет', 'признание', 'стортинг', 'голосовать', 'признание', 'подписание', 'акт', 'признание']\n"
     ]
    }
   ],
   "source": [
    "lemmas0 = filter(filter_word, lemmatext0)\n",
    "lemmas0 = list(lemmas0)\n",
    "print(lemmas0) #лемматизированный текст без стоп-слов\n",
    "\n",
    "# (для украинского языка нужен свой лемматизотор и свои стоп-слова!)"
   ]
  },
  {
   "cell_type": "code",
   "execution_count": 222,
   "metadata": {},
   "outputs": [],
   "source": [
    "#Counter(lemmas0).most_common(100)\n",
    "a0 = round((Counter(lemmas0)['ленин']/len(lemmas0)*100), 1)\n",
    "b0 = round((Counter(lemmas0)['ленинский']/len(lemmas0)*100), 1)\n",
    "d0 = round((Counter(lemmas0)['ильич']/len(lemmas0)*100), 1)\n",
    "c0 = round((Counter(lemmas0)['вождь']/len(lemmas0)*100), 1)"
   ]
  },
  {
   "cell_type": "code",
   "execution_count": 232,
   "metadata": {},
   "outputs": [
    {
     "name": "stdout",
     "output_type": "stream",
     "text": [
      "Употребление слова 'Ленин' в этот день: 1.7 %\n",
      "Употребление слова 'ленинский' в этот день: 0.0 %\n",
      "Употребление слова 'Ильич' в этот день: 0.1 %\n",
      "Употребление слова 'вождь' в этот день: 0.1 %\n",
      "Примерный процент упоминания Ленина в этот день: 1.9 %\n"
     ]
    }
   ],
   "source": [
    "print(\"Употребление слова 'Ленин' в этот день:\", a0, \"%\")\n",
    "print(\"Употребление слова 'ленинский' в этот день:\", b0, \"%\")\n",
    "print(\"Употребление слова 'Ильич' в этот день:\", d0, \"%\")\n",
    "print(\"Употребление слова 'вождь' в этот день:\", c0, \"%\")\n",
    "print(\"Примерный процент упоминания Ленина в этот день:\", round((a0+b0+d0+c0), 1), \"%\")"
   ]
  }
 ],
 "metadata": {
  "kernelspec": {
   "display_name": "Python 3",
   "language": "python",
   "name": "python3"
  },
  "language_info": {
   "codemirror_mode": {
    "name": "ipython",
    "version": 3
   },
   "file_extension": ".py",
   "mimetype": "text/x-python",
   "name": "python",
   "nbconvert_exporter": "python",
   "pygments_lexer": "ipython3",
   "version": "3.7.0"
  }
 },
 "nbformat": 4,
 "nbformat_minor": 2
}
